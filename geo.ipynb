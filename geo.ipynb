{
 "cells": [
  {
   "cell_type": "code",
   "execution_count": 1,
   "id": "94fbfffa",
   "metadata": {},
   "outputs": [],
   "source": [
    "import polars as pl\n",
    "import folium\n",
    "from folium.plugins import HeatMap"
   ]
  },
  {
   "cell_type": "code",
   "execution_count": 3,
   "id": "d7e477fe",
   "metadata": {},
   "outputs": [
    {
     "data": {
      "text/html": [
       "<div><style>\n",
       ".dataframe > thead > tr,\n",
       ".dataframe > tbody > tr {\n",
       "  text-align: right;\n",
       "  white-space: pre-wrap;\n",
       "}\n",
       "</style>\n",
       "<small>shape: (17,)</small><table border=\"1\" class=\"dataframe\"><thead><tr><th>delito</th></tr><tr><td>str</td></tr></thead><tbody><tr><td>&quot;robo a cuentahabientes&quot;</td></tr><tr><td>&quot;homicidio doloso&quot;</td></tr><tr><td>&quot;robo a persona&quot;</td></tr><tr><td>&quot;robo casa habitacion&quot;</td></tr><tr><td>&quot;robo de autopartes&quot;</td></tr><tr><td>&hellip;</td></tr><tr><td>&quot;feminicidio&quot;</td></tr><tr><td>&quot;violacion&quot;</td></tr><tr><td>&quot;lesiones dolosas&quot;</td></tr><tr><td>&quot;robo a vehiculos particulares&quot;</td></tr><tr><td>&quot;robo a carga pesada&quot;</td></tr></tbody></table></div>"
      ],
      "text/plain": [
       "shape: (17,)\n",
       "Series: 'delito' [str]\n",
       "[\n",
       "\t\"robo a cuentahabientes\"\n",
       "\t\"homicidio doloso\"\n",
       "\t\"robo a persona\"\n",
       "\t\"robo casa habitacion\"\n",
       "\t\"robo de autopartes\"\n",
       "\t…\n",
       "\t\"feminicidio\"\n",
       "\t\"violacion\"\n",
       "\t\"lesiones dolosas\"\n",
       "\t\"robo a vehiculos particulares\"\n",
       "\t\"robo a carga pesada\"\n",
       "]"
      ]
     },
     "execution_count": 3,
     "metadata": {},
     "output_type": "execute_result"
    }
   ],
   "source": [
    "df = pl.read_parquet(\"data/iieg_data.parquet\")\n",
    "df[\"delito\"].unique()"
   ]
  },
  {
   "cell_type": "code",
   "execution_count": 5,
   "id": "0d5f3ae9",
   "metadata": {},
   "outputs": [],
   "source": [
    "delito = \"robo a cuentahabientes\"\n",
    "\n",
    "df_gdl = df.filter(\n",
    "    (pl.col(\"municipio\") == \"guadalajara\") & \n",
    "    (pl.col(\"delito\") == delito) &\n",
    "    (pl.col(\"fecha\").dt.year() == 2024) &\n",
    "    (pl.col(\"x\").is_not_null()) & \n",
    "    (pl.col(\"y\").is_not_null())\n",
    ")\n",
    "\n",
    "# Extraemos listas de lat/lon para heatmap\n",
    "heat_data = df_gdl.select([\"y\", \"x\"]).to_numpy().tolist()  # [lat, lon]\n"
   ]
  },
  {
   "cell_type": "code",
   "execution_count": null,
   "id": "88d30cea",
   "metadata": {},
   "outputs": [],
   "source": [
    "# df_gdl.select([\"x\", \"y\", \"delito\"]).write_json(\"heatmap/public/data.json\")"
   ]
  },
  {
   "cell_type": "code",
   "execution_count": null,
   "id": "2fbdb5b0",
   "metadata": {},
   "outputs": [
    {
     "data": {
      "text/html": [
       "<div style=\"width:100%;\"><div style=\"position:relative;width:100%;height:0;padding-bottom:60%;\"><span style=\"color:#565656\">Make this Notebook Trusted to load map: File -> Trust Notebook</span><iframe srcdoc=\"&lt;!DOCTYPE html&gt;\n",
       "&lt;html&gt;\n",
       "&lt;head&gt;\n",
       "    \n",
       "    &lt;meta http-equiv=&quot;content-type&quot; content=&quot;text/html; charset=UTF-8&quot; /&gt;\n",
       "    &lt;script src=&quot;https://cdn.jsdelivr.net/npm/leaflet@1.9.3/dist/leaflet.js&quot;&gt;&lt;/script&gt;\n",
       "    &lt;script src=&quot;https://code.jquery.com/jquery-3.7.1.min.js&quot;&gt;&lt;/script&gt;\n",
       "    &lt;script src=&quot;https://cdn.jsdelivr.net/npm/bootstrap@5.2.2/dist/js/bootstrap.bundle.min.js&quot;&gt;&lt;/script&gt;\n",
       "    &lt;script src=&quot;https://cdnjs.cloudflare.com/ajax/libs/Leaflet.awesome-markers/2.0.2/leaflet.awesome-markers.js&quot;&gt;&lt;/script&gt;\n",
       "    &lt;link rel=&quot;stylesheet&quot; href=&quot;https://cdn.jsdelivr.net/npm/leaflet@1.9.3/dist/leaflet.css&quot;/&gt;\n",
       "    &lt;link rel=&quot;stylesheet&quot; href=&quot;https://cdn.jsdelivr.net/npm/bootstrap@5.2.2/dist/css/bootstrap.min.css&quot;/&gt;\n",
       "    &lt;link rel=&quot;stylesheet&quot; href=&quot;https://netdna.bootstrapcdn.com/bootstrap/3.0.0/css/bootstrap-glyphicons.css&quot;/&gt;\n",
       "    &lt;link rel=&quot;stylesheet&quot; href=&quot;https://cdn.jsdelivr.net/npm/@fortawesome/fontawesome-free@6.2.0/css/all.min.css&quot;/&gt;\n",
       "    &lt;link rel=&quot;stylesheet&quot; href=&quot;https://cdnjs.cloudflare.com/ajax/libs/Leaflet.awesome-markers/2.0.2/leaflet.awesome-markers.css&quot;/&gt;\n",
       "    &lt;link rel=&quot;stylesheet&quot; href=&quot;https://cdn.jsdelivr.net/gh/python-visualization/folium/folium/templates/leaflet.awesome.rotate.min.css&quot;/&gt;\n",
       "    \n",
       "            &lt;meta name=&quot;viewport&quot; content=&quot;width=device-width,\n",
       "                initial-scale=1.0, maximum-scale=1.0, user-scalable=no&quot; /&gt;\n",
       "            &lt;style&gt;\n",
       "                #map_115807b3638bc8e9a7c806d81e20cae0 {\n",
       "                    position: relative;\n",
       "                    width: 100.0%;\n",
       "                    height: 100.0%;\n",
       "                    left: 0.0%;\n",
       "                    top: 0.0%;\n",
       "                }\n",
       "                .leaflet-container { font-size: 1rem; }\n",
       "            &lt;/style&gt;\n",
       "\n",
       "            &lt;style&gt;html, body {\n",
       "                width: 100%;\n",
       "                height: 100%;\n",
       "                margin: 0;\n",
       "                padding: 0;\n",
       "            }\n",
       "            &lt;/style&gt;\n",
       "\n",
       "            &lt;style&gt;#map {\n",
       "                position:absolute;\n",
       "                top:0;\n",
       "                bottom:0;\n",
       "                right:0;\n",
       "                left:0;\n",
       "                }\n",
       "            &lt;/style&gt;\n",
       "\n",
       "            &lt;script&gt;\n",
       "                L_NO_TOUCH = false;\n",
       "                L_DISABLE_3D = false;\n",
       "            &lt;/script&gt;\n",
       "\n",
       "        \n",
       "    &lt;script src=&quot;https://cdn.jsdelivr.net/gh/python-visualization/folium@main/folium/templates/leaflet_heat.min.js&quot;&gt;&lt;/script&gt;\n",
       "&lt;/head&gt;\n",
       "&lt;body&gt;\n",
       "    \n",
       "    \n",
       "            &lt;div class=&quot;folium-map&quot; id=&quot;map_115807b3638bc8e9a7c806d81e20cae0&quot; &gt;&lt;/div&gt;\n",
       "        \n",
       "&lt;/body&gt;\n",
       "&lt;script&gt;\n",
       "    \n",
       "    \n",
       "            var map_115807b3638bc8e9a7c806d81e20cae0 = L.map(\n",
       "                &quot;map_115807b3638bc8e9a7c806d81e20cae0&quot;,\n",
       "                {\n",
       "                    center: [20.6736, -103.344],\n",
       "                    crs: L.CRS.EPSG3857,\n",
       "                    ...{\n",
       "  &quot;zoom&quot;: 12,\n",
       "  &quot;zoomControl&quot;: true,\n",
       "  &quot;preferCanvas&quot;: false,\n",
       "}\n",
       "\n",
       "                }\n",
       "            );\n",
       "\n",
       "            \n",
       "\n",
       "        \n",
       "    \n",
       "            var tile_layer_73e2accdb345b46b97f738ab16904134 = L.tileLayer(\n",
       "                &quot;https://tile.openstreetmap.org/{z}/{x}/{y}.png&quot;,\n",
       "                {\n",
       "  &quot;minZoom&quot;: 0,\n",
       "  &quot;maxZoom&quot;: 19,\n",
       "  &quot;maxNativeZoom&quot;: 19,\n",
       "  &quot;noWrap&quot;: false,\n",
       "  &quot;attribution&quot;: &quot;\\u0026copy; \\u003ca href=\\&quot;https://www.openstreetmap.org/copyright\\&quot;\\u003eOpenStreetMap\\u003c/a\\u003e contributors&quot;,\n",
       "  &quot;subdomains&quot;: &quot;abc&quot;,\n",
       "  &quot;detectRetina&quot;: false,\n",
       "  &quot;tms&quot;: false,\n",
       "  &quot;opacity&quot;: 1,\n",
       "}\n",
       "\n",
       "            );\n",
       "        \n",
       "    \n",
       "            tile_layer_73e2accdb345b46b97f738ab16904134.addTo(map_115807b3638bc8e9a7c806d81e20cae0);\n",
       "        \n",
       "    \n",
       "            var heat_map_dd6206a0290237214dfc6c2cc8d143b2 = L.heatLayer(\n",
       "                [[20.629049903673206, -103.37513620966693], [20.654599605398293, -103.33612819342262], [20.698484925059944, -103.32030397093389], [20.662823575630952, -103.35572274250327], [20.641619093692352, -103.36365273389647], [20.64712191188741, -103.38845250864303], [20.658016539233746, -103.38138841624215], [20.629251196480947, -103.39188198518008], [20.710625759100655, -103.30840774143273], [20.67241384507599, -103.39463129243369], [20.673656043691246, -103.34641185420638], [20.6501193688944, -103.3234532527019], [20.71345842189336, -103.33962043810179], [20.648404692483947, -103.3630867808437], [20.65414482130866, -103.33940839358411], [20.689878838570383, -103.3039747604779], [20.66286963321984, -103.30420106360324], [20.648316338731256, -103.30611230804988], [20.646256805681446, -103.32062800361103], [20.644227139852287, -103.38750988031126], [20.697138168956165, -103.35163996570515], [20.672909959312936, -103.27118868884668], [20.700956028324505, -103.3377607338326], [20.67354196466363, -103.37615572852349], [20.641586124637424, -103.32575523329801], [20.671115508383473, -103.38403508401659], [20.70059953177542, -103.33288672825077], [20.664023837095748, -103.38795120705153], [20.706390740254896, -103.35084684699582], [20.71218062128217, -103.31517456552268], [20.65811373176071, -103.38159440425484], [20.684620245230125, -103.32629649401778], [20.64712702795166, -103.28674101185229], [20.696467154852247, -103.3862573969932], [20.642250123198266, -103.35204287933651], [20.65038641061037, -103.36666672327432], [20.66753453728714, -103.35941896737886], [20.64930736471951, -103.36030424455923], [20.679342296879742, -103.29434206343939], [20.666748526110407, -103.36046716186634], [20.641933671847738, -103.3283728117148], [20.712911068380553, -103.34184017259578], [20.65257620575845, -103.38075420654741], [20.67402911472576, -103.3121827413567], [20.66556406877903, -103.3913412449619]],\n",
       "                {\n",
       "  &quot;minOpacity&quot;: 0.5,\n",
       "  &quot;maxZoom&quot;: 18,\n",
       "  &quot;radius&quot;: 15,\n",
       "  &quot;blur&quot;: 10,\n",
       "}\n",
       "            );\n",
       "        \n",
       "    \n",
       "            heat_map_dd6206a0290237214dfc6c2cc8d143b2.addTo(map_115807b3638bc8e9a7c806d81e20cae0);\n",
       "        \n",
       "    \n",
       "            tile_layer_73e2accdb345b46b97f738ab16904134.addTo(map_115807b3638bc8e9a7c806d81e20cae0);\n",
       "        \n",
       "    \n",
       "            heat_map_dd6206a0290237214dfc6c2cc8d143b2.addTo(map_115807b3638bc8e9a7c806d81e20cae0);\n",
       "        \n",
       "&lt;/script&gt;\n",
       "&lt;/html&gt;\" style=\"position:absolute;width:100%;height:100%;left:0;top:0;border:none !important;\" allowfullscreen webkitallowfullscreen mozallowfullscreen></iframe></div></div>"
      ],
      "text/plain": [
       "<folium.folium.Map at 0x716356b237a0>"
      ]
     },
     "execution_count": 6,
     "metadata": {},
     "output_type": "execute_result"
    }
   ],
   "source": [
    "# Mapa centrado en Guadalajara\n",
    "m = folium.Map(location=[20.6736, -103.344], zoom_start=12)\n",
    "\n",
    "# HeatMap\n",
    "HeatMap(heat_data, radius=15, blur=10).add_to(m)\n",
    "\n",
    "# Guardar o mostrar\n",
    "# m.save(\"heatmap_homicidios.html\")\n",
    "m.save(f\"heatmap/public/mapa_{delito}.html\")\n",
    "m"
   ]
  }
 ],
 "metadata": {
  "kernelspec": {
   "display_name": "DynProg",
   "language": "python",
   "name": "python3"
  },
  "language_info": {
   "codemirror_mode": {
    "name": "ipython",
    "version": 3
   },
   "file_extension": ".py",
   "mimetype": "text/x-python",
   "name": "python",
   "nbconvert_exporter": "python",
   "pygments_lexer": "ipython3",
   "version": "3.12.4"
  }
 },
 "nbformat": 4,
 "nbformat_minor": 5
}
