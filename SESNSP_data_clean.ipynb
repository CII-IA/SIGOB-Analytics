{
 "cells": [
  {
   "cell_type": "code",
   "execution_count": 7,
   "id": "b03861ad",
   "metadata": {},
   "outputs": [],
   "source": [
    "import polars as pl"
   ]
  },
  {
   "cell_type": "code",
   "execution_count": 20,
   "id": "59350451",
   "metadata": {},
   "outputs": [
    {
     "data": {
      "text/html": [
       "<div><style>\n",
       ".dataframe > thead > tr,\n",
       ".dataframe > tbody > tr {\n",
       "  text-align: right;\n",
       "  white-space: pre-wrap;\n",
       "}\n",
       "</style>\n",
       "<small>shape: (135_828, 21)</small><table border=\"1\" class=\"dataframe\"><thead><tr><th>Año</th><th>Clave_Ent</th><th>Entidad</th><th>Cve. Municipio</th><th>Municipio</th><th>Bien jurídico afectado</th><th>Tipo de delito</th><th>Subtipo de delito</th><th>Modalidad</th><th>Enero</th><th>Febrero</th><th>Marzo</th><th>Abril</th><th>Mayo</th><th>Junio</th><th>Julio</th><th>Agosto</th><th>Septiembre</th><th>Octubre</th><th>Noviembre</th><th>Diciembre</th></tr><tr><td>i64</td><td>i64</td><td>str</td><td>i64</td><td>str</td><td>str</td><td>str</td><td>str</td><td>str</td><td>i64</td><td>i64</td><td>i64</td><td>i64</td><td>i64</td><td>i64</td><td>i64</td><td>i64</td><td>i64</td><td>i64</td><td>i64</td><td>i64</td></tr></thead><tbody><tr><td>2015</td><td>14</td><td>&quot;Jalisco&quot;</td><td>14001</td><td>&quot;Acatic&quot;</td><td>&quot;La vida y la Integridad corpor…</td><td>&quot;Homicidio&quot;</td><td>&quot;Homicidio doloso&quot;</td><td>&quot;Con arma de fuego&quot;</td><td>0</td><td>0</td><td>0</td><td>0</td><td>0</td><td>0</td><td>0</td><td>0</td><td>0</td><td>0</td><td>0</td><td>1</td></tr><tr><td>2015</td><td>14</td><td>&quot;Jalisco&quot;</td><td>14001</td><td>&quot;Acatic&quot;</td><td>&quot;La vida y la Integridad corpor…</td><td>&quot;Homicidio&quot;</td><td>&quot;Homicidio doloso&quot;</td><td>&quot;Con arma blanca&quot;</td><td>0</td><td>0</td><td>0</td><td>0</td><td>0</td><td>0</td><td>0</td><td>0</td><td>0</td><td>0</td><td>0</td><td>0</td></tr><tr><td>2015</td><td>14</td><td>&quot;Jalisco&quot;</td><td>14001</td><td>&quot;Acatic&quot;</td><td>&quot;La vida y la Integridad corpor…</td><td>&quot;Homicidio&quot;</td><td>&quot;Homicidio doloso&quot;</td><td>&quot;Con otro elemento&quot;</td><td>0</td><td>0</td><td>0</td><td>0</td><td>0</td><td>0</td><td>0</td><td>0</td><td>1</td><td>0</td><td>0</td><td>0</td></tr><tr><td>2015</td><td>14</td><td>&quot;Jalisco&quot;</td><td>14001</td><td>&quot;Acatic&quot;</td><td>&quot;La vida y la Integridad corpor…</td><td>&quot;Homicidio&quot;</td><td>&quot;Homicidio doloso&quot;</td><td>&quot;No especificado&quot;</td><td>0</td><td>0</td><td>0</td><td>0</td><td>0</td><td>0</td><td>0</td><td>0</td><td>0</td><td>0</td><td>0</td><td>0</td></tr><tr><td>2015</td><td>14</td><td>&quot;Jalisco&quot;</td><td>14001</td><td>&quot;Acatic&quot;</td><td>&quot;La vida y la Integridad corpor…</td><td>&quot;Homicidio&quot;</td><td>&quot;Homicidio culposo&quot;</td><td>&quot;Con arma de fuego&quot;</td><td>0</td><td>0</td><td>0</td><td>0</td><td>0</td><td>0</td><td>0</td><td>0</td><td>0</td><td>0</td><td>0</td><td>0</td></tr><tr><td>&hellip;</td><td>&hellip;</td><td>&hellip;</td><td>&hellip;</td><td>&hellip;</td><td>&hellip;</td><td>&hellip;</td><td>&hellip;</td><td>&hellip;</td><td>&hellip;</td><td>&hellip;</td><td>&hellip;</td><td>&hellip;</td><td>&hellip;</td><td>&hellip;</td><td>&hellip;</td><td>&hellip;</td><td>&hellip;</td><td>&hellip;</td><td>&hellip;</td><td>&hellip;</td></tr><tr><td>2025</td><td>14</td><td>&quot;Jalisco&quot;</td><td>14998</td><td>&quot;No Especificado&quot;</td><td>&quot;Otros bienes jurídicos afectad…</td><td>&quot;Falsificación&quot;</td><td>&quot;Falsificación&quot;</td><td>&quot;Falsificación&quot;</td><td>0</td><td>0</td><td>0</td><td>0</td><td>0</td><td>0</td><td>0</td><td>null</td><td>null</td><td>null</td><td>null</td><td>null</td></tr><tr><td>2025</td><td>14</td><td>&quot;Jalisco&quot;</td><td>14998</td><td>&quot;No Especificado&quot;</td><td>&quot;Otros bienes jurídicos afectad…</td><td>&quot;Contra el medio ambiente&quot;</td><td>&quot;Contra el medio ambiente&quot;</td><td>&quot;Contra el medio ambiente&quot;</td><td>0</td><td>0</td><td>0</td><td>0</td><td>0</td><td>0</td><td>0</td><td>null</td><td>null</td><td>null</td><td>null</td><td>null</td></tr><tr><td>2025</td><td>14</td><td>&quot;Jalisco&quot;</td><td>14998</td><td>&quot;No Especificado&quot;</td><td>&quot;Otros bienes jurídicos afectad…</td><td>&quot;Delitos cometidos por servidor…</td><td>&quot;Delitos cometidos por servidor…</td><td>&quot;Delitos cometidos por servidor…</td><td>0</td><td>0</td><td>0</td><td>0</td><td>0</td><td>0</td><td>0</td><td>null</td><td>null</td><td>null</td><td>null</td><td>null</td></tr><tr><td>2025</td><td>14</td><td>&quot;Jalisco&quot;</td><td>14998</td><td>&quot;No Especificado&quot;</td><td>&quot;Otros bienes jurídicos afectad…</td><td>&quot;Electorales&quot;</td><td>&quot;Electorales&quot;</td><td>&quot;Electorales&quot;</td><td>0</td><td>0</td><td>0</td><td>0</td><td>0</td><td>0</td><td>0</td><td>null</td><td>null</td><td>null</td><td>null</td><td>null</td></tr><tr><td>2025</td><td>14</td><td>&quot;Jalisco&quot;</td><td>14998</td><td>&quot;No Especificado&quot;</td><td>&quot;Otros bienes jurídicos afectad…</td><td>&quot;Otros delitos del Fuero Común&quot;</td><td>&quot;Otros delitos del Fuero Común&quot;</td><td>&quot;Otros delitos del Fuero Común&quot;</td><td>0</td><td>0</td><td>0</td><td>0</td><td>0</td><td>0</td><td>0</td><td>null</td><td>null</td><td>null</td><td>null</td><td>null</td></tr></tbody></table></div>"
      ],
      "text/plain": [
       "shape: (135_828, 21)\n",
       "┌──────┬───────────┬─────────┬────────────────┬───┬────────────┬─────────┬───────────┬───────────┐\n",
       "│ Año  ┆ Clave_Ent ┆ Entidad ┆ Cve. Municipio ┆ … ┆ Septiembre ┆ Octubre ┆ Noviembre ┆ Diciembre │\n",
       "│ ---  ┆ ---       ┆ ---     ┆ ---            ┆   ┆ ---        ┆ ---     ┆ ---       ┆ ---       │\n",
       "│ i64  ┆ i64       ┆ str     ┆ i64            ┆   ┆ i64        ┆ i64     ┆ i64       ┆ i64       │\n",
       "╞══════╪═══════════╪═════════╪════════════════╪═══╪════════════╪═════════╪═══════════╪═══════════╡\n",
       "│ 2015 ┆ 14        ┆ Jalisco ┆ 14001          ┆ … ┆ 0          ┆ 0       ┆ 0         ┆ 1         │\n",
       "│ 2015 ┆ 14        ┆ Jalisco ┆ 14001          ┆ … ┆ 0          ┆ 0       ┆ 0         ┆ 0         │\n",
       "│ 2015 ┆ 14        ┆ Jalisco ┆ 14001          ┆ … ┆ 1          ┆ 0       ┆ 0         ┆ 0         │\n",
       "│ 2015 ┆ 14        ┆ Jalisco ┆ 14001          ┆ … ┆ 0          ┆ 0       ┆ 0         ┆ 0         │\n",
       "│ 2015 ┆ 14        ┆ Jalisco ┆ 14001          ┆ … ┆ 0          ┆ 0       ┆ 0         ┆ 0         │\n",
       "│ …    ┆ …         ┆ …       ┆ …              ┆ … ┆ …          ┆ …       ┆ …         ┆ …         │\n",
       "│ 2025 ┆ 14        ┆ Jalisco ┆ 14998          ┆ … ┆ null       ┆ null    ┆ null      ┆ null      │\n",
       "│ 2025 ┆ 14        ┆ Jalisco ┆ 14998          ┆ … ┆ null       ┆ null    ┆ null      ┆ null      │\n",
       "│ 2025 ┆ 14        ┆ Jalisco ┆ 14998          ┆ … ┆ null       ┆ null    ┆ null      ┆ null      │\n",
       "│ 2025 ┆ 14        ┆ Jalisco ┆ 14998          ┆ … ┆ null       ┆ null    ┆ null      ┆ null      │\n",
       "│ 2025 ┆ 14        ┆ Jalisco ┆ 14998          ┆ … ┆ null       ┆ null    ┆ null      ┆ null      │\n",
       "└──────┴───────────┴─────────┴────────────────┴───┴────────────┴─────────┴───────────┴───────────┘"
      ]
     },
     "execution_count": 20,
     "metadata": {},
     "output_type": "execute_result"
    }
   ],
   "source": [
    "df = pl.read_csv(\"raw_data/SESNSP/IDM_NM_jul25.csv\",\n",
    "                 encoding=\"latin-1\").filter(pl.col(\"Entidad\") == \"Jalisco\")\n",
    "df"
   ]
  },
  {
   "cell_type": "code",
   "execution_count": null,
   "id": "141d6ca1",
   "metadata": {},
   "outputs": [
    {
     "data": {
      "text/html": [
       "<div><style>\n",
       ".dataframe > thead > tr,\n",
       ".dataframe > tbody > tr {\n",
       "  text-align: right;\n",
       "  white-space: pre-wrap;\n",
       "}\n",
       "</style>\n",
       "<small>shape: (1_425_444, 9)</small><table border=\"1\" class=\"dataframe\"><thead><tr><th>Clave_Ent</th><th>Entidad</th><th>Cve. Municipio</th><th>Municipio</th><th>Bien jurídico afectado</th><th>Tipo de delito</th><th>Subtipo de delito</th><th>Modalidad</th><th>Fecha</th></tr><tr><td>i64</td><td>str</td><td>i64</td><td>str</td><td>str</td><td>str</td><td>str</td><td>str</td><td>date</td></tr></thead><tbody><tr><td>14</td><td>&quot;Jalisco&quot;</td><td>14001</td><td>&quot;Acatic&quot;</td><td>&quot;El patrimonio&quot;</td><td>&quot;Robo&quot;</td><td>&quot;Robo a casa habitación&quot;</td><td>&quot;Sin violencia&quot;</td><td>2015-01-01</td></tr><tr><td>14</td><td>&quot;Jalisco&quot;</td><td>14001</td><td>&quot;Acatic&quot;</td><td>&quot;El patrimonio&quot;</td><td>&quot;Robo&quot;</td><td>&quot;Robo de vehículo automotor&quot;</td><td>&quot;Robo de motocicleta Sin violen…</td><td>2015-01-01</td></tr><tr><td>14</td><td>&quot;Jalisco&quot;</td><td>14001</td><td>&quot;Acatic&quot;</td><td>&quot;El patrimonio&quot;</td><td>&quot;Robo&quot;</td><td>&quot;Otros robos&quot;</td><td>&quot;Sin violencia&quot;</td><td>2015-01-01</td></tr><tr><td>14</td><td>&quot;Jalisco&quot;</td><td>14001</td><td>&quot;Acatic&quot;</td><td>&quot;El patrimonio&quot;</td><td>&quot;Robo&quot;</td><td>&quot;Otros robos&quot;</td><td>&quot;Sin violencia&quot;</td><td>2015-01-01</td></tr><tr><td>14</td><td>&quot;Jalisco&quot;</td><td>14001</td><td>&quot;Acatic&quot;</td><td>&quot;El patrimonio&quot;</td><td>&quot;Robo&quot;</td><td>&quot;Otros robos&quot;</td><td>&quot;Sin violencia&quot;</td><td>2015-01-01</td></tr><tr><td>&hellip;</td><td>&hellip;</td><td>&hellip;</td><td>&hellip;</td><td>&hellip;</td><td>&hellip;</td><td>&hellip;</td><td>&hellip;</td><td>&hellip;</td></tr><tr><td>14</td><td>&quot;Jalisco&quot;</td><td>14998</td><td>&quot;No Especificado&quot;</td><td>&quot;El patrimonio&quot;</td><td>&quot;Fraude&quot;</td><td>&quot;Fraude&quot;</td><td>&quot;Fraude&quot;</td><td>2024-12-01</td></tr><tr><td>14</td><td>&quot;Jalisco&quot;</td><td>14998</td><td>&quot;No Especificado&quot;</td><td>&quot;El patrimonio&quot;</td><td>&quot;Fraude&quot;</td><td>&quot;Fraude&quot;</td><td>&quot;Fraude&quot;</td><td>2024-12-01</td></tr><tr><td>14</td><td>&quot;Jalisco&quot;</td><td>14998</td><td>&quot;No Especificado&quot;</td><td>&quot;Otros bienes jurídicos afectad…</td><td>&quot;Falsificación&quot;</td><td>&quot;Falsificación&quot;</td><td>&quot;Falsificación&quot;</td><td>2024-12-01</td></tr><tr><td>14</td><td>&quot;Jalisco&quot;</td><td>14998</td><td>&quot;No Especificado&quot;</td><td>&quot;Otros bienes jurídicos afectad…</td><td>&quot;Otros delitos del Fuero Común&quot;</td><td>&quot;Otros delitos del Fuero Común&quot;</td><td>&quot;Otros delitos del Fuero Común&quot;</td><td>2024-12-01</td></tr><tr><td>14</td><td>&quot;Jalisco&quot;</td><td>14998</td><td>&quot;No Especificado&quot;</td><td>&quot;Otros bienes jurídicos afectad…</td><td>&quot;Otros delitos del Fuero Común&quot;</td><td>&quot;Otros delitos del Fuero Común&quot;</td><td>&quot;Otros delitos del Fuero Común&quot;</td><td>2024-12-01</td></tr></tbody></table></div>"
      ],
      "text/plain": [
       "shape: (1_425_444, 9)\n",
       "┌───────────┬─────────┬────────────┬───────────┬───┬───────────┬───────────┬───────────┬───────────┐\n",
       "│ Clave_Ent ┆ Entidad ┆ Cve.       ┆ Municipio ┆ … ┆ Tipo de   ┆ Subtipo   ┆ Modalidad ┆ Fecha     │\n",
       "│ ---       ┆ ---     ┆ Municipio  ┆ ---       ┆   ┆ delito    ┆ de delito ┆ ---       ┆ ---       │\n",
       "│ i64       ┆ str     ┆ ---        ┆ str       ┆   ┆ ---       ┆ ---       ┆ str       ┆ date      │\n",
       "│           ┆         ┆ i64        ┆           ┆   ┆ str       ┆ str       ┆           ┆           │\n",
       "╞═══════════╪═════════╪════════════╪═══════════╪═══╪═══════════╪═══════════╪═══════════╪═══════════╡\n",
       "│ 14        ┆ Jalisco ┆ 14001      ┆ Acatic    ┆ … ┆ Robo      ┆ Robo a    ┆ Sin       ┆ 2015-01-0 │\n",
       "│           ┆         ┆            ┆           ┆   ┆           ┆ casa habi ┆ violencia ┆ 1         │\n",
       "│           ┆         ┆            ┆           ┆   ┆           ┆ tación    ┆           ┆           │\n",
       "│ 14        ┆ Jalisco ┆ 14001      ┆ Acatic    ┆ … ┆ Robo      ┆ Robo de   ┆ Robo de   ┆ 2015-01-0 │\n",
       "│           ┆         ┆            ┆           ┆   ┆           ┆ vehículo  ┆ motocicle ┆ 1         │\n",
       "│           ┆         ┆            ┆           ┆   ┆           ┆ automotor ┆ ta Sin    ┆           │\n",
       "│           ┆         ┆            ┆           ┆   ┆           ┆           ┆ violen…   ┆           │\n",
       "│ 14        ┆ Jalisco ┆ 14001      ┆ Acatic    ┆ … ┆ Robo      ┆ Otros     ┆ Sin       ┆ 2015-01-0 │\n",
       "│           ┆         ┆            ┆           ┆   ┆           ┆ robos     ┆ violencia ┆ 1         │\n",
       "│ 14        ┆ Jalisco ┆ 14001      ┆ Acatic    ┆ … ┆ Robo      ┆ Otros     ┆ Sin       ┆ 2015-01-0 │\n",
       "│           ┆         ┆            ┆           ┆   ┆           ┆ robos     ┆ violencia ┆ 1         │\n",
       "│ 14        ┆ Jalisco ┆ 14001      ┆ Acatic    ┆ … ┆ Robo      ┆ Otros     ┆ Sin       ┆ 2015-01-0 │\n",
       "│           ┆         ┆            ┆           ┆   ┆           ┆ robos     ┆ violencia ┆ 1         │\n",
       "│ …         ┆ …       ┆ …          ┆ …         ┆ … ┆ …         ┆ …         ┆ …         ┆ …         │\n",
       "│ 14        ┆ Jalisco ┆ 14998      ┆ No Especi ┆ … ┆ Fraude    ┆ Fraude    ┆ Fraude    ┆ 2024-12-0 │\n",
       "│           ┆         ┆            ┆ ficado    ┆   ┆           ┆           ┆           ┆ 1         │\n",
       "│ 14        ┆ Jalisco ┆ 14998      ┆ No Especi ┆ … ┆ Fraude    ┆ Fraude    ┆ Fraude    ┆ 2024-12-0 │\n",
       "│           ┆         ┆            ┆ ficado    ┆   ┆           ┆           ┆           ┆ 1         │\n",
       "│ 14        ┆ Jalisco ┆ 14998      ┆ No Especi ┆ … ┆ Falsifica ┆ Falsifica ┆ Falsifica ┆ 2024-12-0 │\n",
       "│           ┆         ┆            ┆ ficado    ┆   ┆ ción      ┆ ción      ┆ ción      ┆ 1         │\n",
       "│ 14        ┆ Jalisco ┆ 14998      ┆ No Especi ┆ … ┆ Otros     ┆ Otros     ┆ Otros     ┆ 2024-12-0 │\n",
       "│           ┆         ┆            ┆ ficado    ┆   ┆ delitos   ┆ delitos   ┆ delitos   ┆ 1         │\n",
       "│           ┆         ┆            ┆           ┆   ┆ del Fuero ┆ del Fuero ┆ del Fuero ┆           │\n",
       "│           ┆         ┆            ┆           ┆   ┆ Común     ┆ Común     ┆ Común     ┆           │\n",
       "│ 14        ┆ Jalisco ┆ 14998      ┆ No Especi ┆ … ┆ Otros     ┆ Otros     ┆ Otros     ┆ 2024-12-0 │\n",
       "│           ┆         ┆            ┆ ficado    ┆   ┆ delitos   ┆ delitos   ┆ delitos   ┆ 1         │\n",
       "│           ┆         ┆            ┆           ┆   ┆ del Fuero ┆ del Fuero ┆ del Fuero ┆           │\n",
       "│           ┆         ┆            ┆           ┆   ┆ Común     ┆ Común     ┆ Común     ┆           │\n",
       "└───────────┴─────────┴────────────┴───────────┴───┴───────────┴───────────┴───────────┴───────────┘"
      ]
     },
     "execution_count": 41,
     "metadata": {},
     "output_type": "execute_result"
    }
   ],
   "source": [
    "df_cols = df.columns[:-12]\n",
    "months = df.columns[-12:]\n",
    "months_map = {month: i + 1 for i, month in enumerate(months)}\n",
    "\n",
    "unpivoted_df = df.unpivot(\n",
    "    index=df_cols,\n",
    "    on=months,\n",
    "    variable_name=\"Mes\",\n",
    "    value_name=\"count\"\n",
    ").filter(pl.col(\"count\") > 0) # TODO: Revisar si los meses en null afectan el procesamiento\n",
    "\n",
    "expanded_df = (\n",
    "    unpivoted_df\n",
    "    .with_columns(pl.struct(unpivoted_df.columns).alias(\"row_struct\"))\n",
    "    .with_columns(pl.col(\"row_struct\").repeat_by(\"count\").alias(\"expanded\"))\n",
    "    .drop(unpivoted_df.columns + [\"count\", \"row_struct\"])\n",
    "    .explode(\"expanded\")\n",
    "    .unnest(\"expanded\")\n",
    "    .with_columns(pl.col(\"Mes\").replace_strict(months_map).cast(pl.Int8))\n",
    "    .with_columns(pl.date(pl.col(\"Año\"), pl.col(\"Mes\"), pl.lit(1)).alias(\"Fecha\"))\n",
    "    .drop(\"count\", \"Año\", \"Mes\")\n",
    ")\n",
    "\n",
    "expanded_df"
   ]
  },
  {
   "cell_type": "code",
   "execution_count": null,
   "id": "439a72b8",
   "metadata": {},
   "outputs": [
    {
     "data": {
      "text/html": [
       "<div><style>\n",
       ".dataframe > thead > tr,\n",
       ".dataframe > tbody > tr {\n",
       "  text-align: right;\n",
       "  white-space: pre-wrap;\n",
       "}\n",
       "</style>\n",
       "<small>shape: (2, 21)</small><table border=\"1\" class=\"dataframe\"><thead><tr><th>Año</th><th>Clave_Ent</th><th>Entidad</th><th>Cve. Municipio</th><th>Municipio</th><th>Bien jurídico afectado</th><th>Tipo de delito</th><th>Subtipo de delito</th><th>Modalidad</th><th>Enero</th><th>Febrero</th><th>Marzo</th><th>Abril</th><th>Mayo</th><th>Junio</th><th>Julio</th><th>Agosto</th><th>Septiembre</th><th>Octubre</th><th>Noviembre</th><th>Diciembre</th></tr><tr><td>i64</td><td>i64</td><td>str</td><td>i64</td><td>str</td><td>str</td><td>str</td><td>str</td><td>str</td><td>i64</td><td>i64</td><td>i64</td><td>i64</td><td>i64</td><td>i64</td><td>i64</td><td>i64</td><td>i64</td><td>i64</td><td>i64</td><td>i64</td></tr></thead><tbody><tr><td>2015</td><td>14</td><td>&quot;Jalisco&quot;</td><td>14001</td><td>&quot;Acatic&quot;</td><td>&quot;El patrimonio&quot;</td><td>&quot;Robo&quot;</td><td>&quot;Otros robos&quot;</td><td>&quot;Con violencia&quot;</td><td>0</td><td>0</td><td>0</td><td>0</td><td>0</td><td>0</td><td>0</td><td>0</td><td>0</td><td>0</td><td>0</td><td>0</td></tr><tr><td>2015</td><td>14</td><td>&quot;Jalisco&quot;</td><td>14001</td><td>&quot;Acatic&quot;</td><td>&quot;El patrimonio&quot;</td><td>&quot;Robo&quot;</td><td>&quot;Otros robos&quot;</td><td>&quot;Sin violencia&quot;</td><td>5</td><td>1</td><td>3</td><td>0</td><td>0</td><td>3</td><td>0</td><td>1</td><td>0</td><td>2</td><td>2</td><td>2</td></tr></tbody></table></div>"
      ],
      "text/plain": [
       "shape: (2, 21)\n",
       "┌──────┬───────────┬─────────┬────────────────┬───┬────────────┬─────────┬───────────┬───────────┐\n",
       "│ Año  ┆ Clave_Ent ┆ Entidad ┆ Cve. Municipio ┆ … ┆ Septiembre ┆ Octubre ┆ Noviembre ┆ Diciembre │\n",
       "│ ---  ┆ ---       ┆ ---     ┆ ---            ┆   ┆ ---        ┆ ---     ┆ ---       ┆ ---       │\n",
       "│ i64  ┆ i64       ┆ str     ┆ i64            ┆   ┆ i64        ┆ i64     ┆ i64       ┆ i64       │\n",
       "╞══════╪═══════════╪═════════╪════════════════╪═══╪════════════╪═════════╪═══════════╪═══════════╡\n",
       "│ 2015 ┆ 14        ┆ Jalisco ┆ 14001          ┆ … ┆ 0          ┆ 0       ┆ 0         ┆ 0         │\n",
       "│ 2015 ┆ 14        ┆ Jalisco ┆ 14001          ┆ … ┆ 0          ┆ 2       ┆ 2         ┆ 2         │\n",
       "└──────┴───────────┴─────────┴────────────────┴───┴────────────┴─────────┴───────────┴───────────┘"
      ]
     },
     "execution_count": 42,
     "metadata": {},
     "output_type": "execute_result"
    }
   ],
   "source": [
    "df.filter(pl.col(\"Municipio\") == \"Guadalajara\").filter(pl.col(\"Año\") == 2015).filter(pl.col(\"Subtipo de delito\") == \"Otros robos\")"
   ]
  },
  {
   "cell_type": "code",
   "execution_count": 46,
   "id": "60bae6c1",
   "metadata": {},
   "outputs": [
    {
     "data": {
      "text/html": [
       "<div><style>\n",
       ".dataframe > thead > tr,\n",
       ".dataframe > tbody > tr {\n",
       "  text-align: right;\n",
       "  white-space: pre-wrap;\n",
       "}\n",
       "</style>\n",
       "<small>shape: (1_558, 9)</small><table border=\"1\" class=\"dataframe\"><thead><tr><th>Clave_Ent</th><th>Entidad</th><th>Cve. Municipio</th><th>Municipio</th><th>Bien jurídico afectado</th><th>Tipo de delito</th><th>Subtipo de delito</th><th>Modalidad</th><th>Fecha</th></tr><tr><td>i64</td><td>str</td><td>i64</td><td>str</td><td>str</td><td>str</td><td>str</td><td>str</td><td>date</td></tr></thead><tbody><tr><td>14</td><td>&quot;Jalisco&quot;</td><td>14039</td><td>&quot;Guadalajara&quot;</td><td>&quot;El patrimonio&quot;</td><td>&quot;Robo&quot;</td><td>&quot;Otros robos&quot;</td><td>&quot;Con violencia&quot;</td><td>2015-01-01</td></tr><tr><td>14</td><td>&quot;Jalisco&quot;</td><td>14039</td><td>&quot;Guadalajara&quot;</td><td>&quot;El patrimonio&quot;</td><td>&quot;Robo&quot;</td><td>&quot;Otros robos&quot;</td><td>&quot;Con violencia&quot;</td><td>2015-01-01</td></tr><tr><td>14</td><td>&quot;Jalisco&quot;</td><td>14039</td><td>&quot;Guadalajara&quot;</td><td>&quot;El patrimonio&quot;</td><td>&quot;Robo&quot;</td><td>&quot;Otros robos&quot;</td><td>&quot;Con violencia&quot;</td><td>2015-01-01</td></tr><tr><td>14</td><td>&quot;Jalisco&quot;</td><td>14039</td><td>&quot;Guadalajara&quot;</td><td>&quot;El patrimonio&quot;</td><td>&quot;Robo&quot;</td><td>&quot;Otros robos&quot;</td><td>&quot;Con violencia&quot;</td><td>2015-01-01</td></tr><tr><td>14</td><td>&quot;Jalisco&quot;</td><td>14039</td><td>&quot;Guadalajara&quot;</td><td>&quot;El patrimonio&quot;</td><td>&quot;Robo&quot;</td><td>&quot;Otros robos&quot;</td><td>&quot;Con violencia&quot;</td><td>2015-01-01</td></tr><tr><td>&hellip;</td><td>&hellip;</td><td>&hellip;</td><td>&hellip;</td><td>&hellip;</td><td>&hellip;</td><td>&hellip;</td><td>&hellip;</td><td>&hellip;</td></tr><tr><td>14</td><td>&quot;Jalisco&quot;</td><td>14039</td><td>&quot;Guadalajara&quot;</td><td>&quot;El patrimonio&quot;</td><td>&quot;Robo&quot;</td><td>&quot;Otros robos&quot;</td><td>&quot;Sin violencia&quot;</td><td>2015-12-01</td></tr><tr><td>14</td><td>&quot;Jalisco&quot;</td><td>14039</td><td>&quot;Guadalajara&quot;</td><td>&quot;El patrimonio&quot;</td><td>&quot;Robo&quot;</td><td>&quot;Otros robos&quot;</td><td>&quot;Sin violencia&quot;</td><td>2015-12-01</td></tr><tr><td>14</td><td>&quot;Jalisco&quot;</td><td>14039</td><td>&quot;Guadalajara&quot;</td><td>&quot;El patrimonio&quot;</td><td>&quot;Robo&quot;</td><td>&quot;Otros robos&quot;</td><td>&quot;Sin violencia&quot;</td><td>2015-12-01</td></tr><tr><td>14</td><td>&quot;Jalisco&quot;</td><td>14039</td><td>&quot;Guadalajara&quot;</td><td>&quot;El patrimonio&quot;</td><td>&quot;Robo&quot;</td><td>&quot;Otros robos&quot;</td><td>&quot;Sin violencia&quot;</td><td>2015-12-01</td></tr><tr><td>14</td><td>&quot;Jalisco&quot;</td><td>14039</td><td>&quot;Guadalajara&quot;</td><td>&quot;El patrimonio&quot;</td><td>&quot;Robo&quot;</td><td>&quot;Otros robos&quot;</td><td>&quot;Sin violencia&quot;</td><td>2015-12-01</td></tr></tbody></table></div>"
      ],
      "text/plain": [
       "shape: (1_558, 9)\n",
       "┌───────────┬─────────┬────────────┬───────────┬───┬───────────┬───────────┬───────────┬───────────┐\n",
       "│ Clave_Ent ┆ Entidad ┆ Cve.       ┆ Municipio ┆ … ┆ Tipo de   ┆ Subtipo   ┆ Modalidad ┆ Fecha     │\n",
       "│ ---       ┆ ---     ┆ Municipio  ┆ ---       ┆   ┆ delito    ┆ de delito ┆ ---       ┆ ---       │\n",
       "│ i64       ┆ str     ┆ ---        ┆ str       ┆   ┆ ---       ┆ ---       ┆ str       ┆ date      │\n",
       "│           ┆         ┆ i64        ┆           ┆   ┆ str       ┆ str       ┆           ┆           │\n",
       "╞═══════════╪═════════╪════════════╪═══════════╪═══╪═══════════╪═══════════╪═══════════╪═══════════╡\n",
       "│ 14        ┆ Jalisco ┆ 14039      ┆ Guadalaja ┆ … ┆ Robo      ┆ Otros     ┆ Con       ┆ 2015-01-0 │\n",
       "│           ┆         ┆            ┆ ra        ┆   ┆           ┆ robos     ┆ violencia ┆ 1         │\n",
       "│ 14        ┆ Jalisco ┆ 14039      ┆ Guadalaja ┆ … ┆ Robo      ┆ Otros     ┆ Con       ┆ 2015-01-0 │\n",
       "│           ┆         ┆            ┆ ra        ┆   ┆           ┆ robos     ┆ violencia ┆ 1         │\n",
       "│ 14        ┆ Jalisco ┆ 14039      ┆ Guadalaja ┆ … ┆ Robo      ┆ Otros     ┆ Con       ┆ 2015-01-0 │\n",
       "│           ┆         ┆            ┆ ra        ┆   ┆           ┆ robos     ┆ violencia ┆ 1         │\n",
       "│ 14        ┆ Jalisco ┆ 14039      ┆ Guadalaja ┆ … ┆ Robo      ┆ Otros     ┆ Con       ┆ 2015-01-0 │\n",
       "│           ┆         ┆            ┆ ra        ┆   ┆           ┆ robos     ┆ violencia ┆ 1         │\n",
       "│ 14        ┆ Jalisco ┆ 14039      ┆ Guadalaja ┆ … ┆ Robo      ┆ Otros     ┆ Con       ┆ 2015-01-0 │\n",
       "│           ┆         ┆            ┆ ra        ┆   ┆           ┆ robos     ┆ violencia ┆ 1         │\n",
       "│ …         ┆ …       ┆ …          ┆ …         ┆ … ┆ …         ┆ …         ┆ …         ┆ …         │\n",
       "│ 14        ┆ Jalisco ┆ 14039      ┆ Guadalaja ┆ … ┆ Robo      ┆ Otros     ┆ Sin       ┆ 2015-12-0 │\n",
       "│           ┆         ┆            ┆ ra        ┆   ┆           ┆ robos     ┆ violencia ┆ 1         │\n",
       "│ 14        ┆ Jalisco ┆ 14039      ┆ Guadalaja ┆ … ┆ Robo      ┆ Otros     ┆ Sin       ┆ 2015-12-0 │\n",
       "│           ┆         ┆            ┆ ra        ┆   ┆           ┆ robos     ┆ violencia ┆ 1         │\n",
       "│ 14        ┆ Jalisco ┆ 14039      ┆ Guadalaja ┆ … ┆ Robo      ┆ Otros     ┆ Sin       ┆ 2015-12-0 │\n",
       "│           ┆         ┆            ┆ ra        ┆   ┆           ┆ robos     ┆ violencia ┆ 1         │\n",
       "│ 14        ┆ Jalisco ┆ 14039      ┆ Guadalaja ┆ … ┆ Robo      ┆ Otros     ┆ Sin       ┆ 2015-12-0 │\n",
       "│           ┆         ┆            ┆ ra        ┆   ┆           ┆ robos     ┆ violencia ┆ 1         │\n",
       "│ 14        ┆ Jalisco ┆ 14039      ┆ Guadalaja ┆ … ┆ Robo      ┆ Otros     ┆ Sin       ┆ 2015-12-0 │\n",
       "│           ┆         ┆            ┆ ra        ┆   ┆           ┆ robos     ┆ violencia ┆ 1         │\n",
       "└───────────┴─────────┴────────────┴───────────┴───┴───────────┴───────────┴───────────┴───────────┘"
      ]
     },
     "execution_count": 46,
     "metadata": {},
     "output_type": "execute_result"
    }
   ],
   "source": [
    "expanded_df.filter(pl.col(\"Municipio\") == \"Guadalajara\").filter(pl.col(\"Fecha\").dt.year() == 2015).filter(pl.col(\"Subtipo de delito\") == \"Otros robos\")"
   ]
  },
  {
   "cell_type": "code",
   "execution_count": 48,
   "id": "bd858dc0",
   "metadata": {},
   "outputs": [],
   "source": [
    "df_clean = expanded_df.insert_column(0, pl.arange(0, expanded_df.height).alias(\"id\"))\n",
    "df_clean.write_parquet(\"data/SESNSP/SESNSP_jalisco_data.parquet\")"
   ]
  }
 ],
 "metadata": {
  "kernelspec": {
   "display_name": "DynProg",
   "language": "python",
   "name": "python3"
  },
  "language_info": {
   "codemirror_mode": {
    "name": "ipython",
    "version": 3
   },
   "file_extension": ".py",
   "mimetype": "text/x-python",
   "name": "python",
   "nbconvert_exporter": "python",
   "pygments_lexer": "ipython3",
   "version": "3.12.4"
  }
 },
 "nbformat": 4,
 "nbformat_minor": 5
}
