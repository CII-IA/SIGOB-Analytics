{
 "cells": [
  {
   "cell_type": "code",
   "execution_count": 2,
   "id": "edfe2770",
   "metadata": {},
   "outputs": [],
   "source": [
    "import csv\n",
    "import json\n",
    "import pandas as pd\n",
    "import polars as pl\n",
    "from glob import glob\n",
    "from tqdm import tqdm"
   ]
  },
  {
   "cell_type": "code",
   "execution_count": 3,
   "id": "8be24437",
   "metadata": {},
   "outputs": [],
   "source": [
    "def get_headers(file):\n",
    "    with open(file, 'r', encoding='utf-8') as f:\n",
    "        headers = f.readline().strip().split(',')\n",
    "    return headers"
   ]
  },
  {
   "cell_type": "code",
   "execution_count": 4,
   "id": "ccd86c26",
   "metadata": {},
   "outputs": [
    {
     "data": {
      "application/vnd.microsoft.datawrangler.viewer.v0+json": {
       "columns": [
        {
         "name": "index",
         "rawType": "int64",
         "type": "integer"
        },
        {
         "name": "file",
         "rawType": "object",
         "type": "string"
        },
        {
         "name": "0",
         "rawType": "object",
         "type": "string"
        },
        {
         "name": "1",
         "rawType": "object",
         "type": "string"
        },
        {
         "name": "2",
         "rawType": "object",
         "type": "string"
        },
        {
         "name": "3",
         "rawType": "object",
         "type": "string"
        },
        {
         "name": "4",
         "rawType": "object",
         "type": "string"
        },
        {
         "name": "5",
         "rawType": "object",
         "type": "string"
        },
        {
         "name": "6",
         "rawType": "object",
         "type": "string"
        },
        {
         "name": "7",
         "rawType": "object",
         "type": "string"
        },
        {
         "name": "8",
         "rawType": "object",
         "type": "string"
        },
        {
         "name": "9",
         "rawType": "object",
         "type": "string"
        },
        {
         "name": "10",
         "rawType": "object",
         "type": "unknown"
        }
       ],
       "ref": "ca963785-0545-4aae-b25a-c052f4d2ce81",
       "rows": [
        [
         "0",
         "raw_data/IIEG/Altos_Sur_junio25.csv",
         "﻿\"fecha\"",
         "\"delito\"",
         "\"x\"",
         "\"y\"",
         "\"colonia\"",
         "\"municipio\"",
         "\"clave_mun\"",
         "\"hora\"",
         "\"bien_afectado\"",
         "\"zona_geografica\"",
         "\"ID_municipio_unico\""
        ],
        [
         "1",
         "raw_data/IIEG/base_datos_incidencia_delictiva_region_lagunas_enero2017_nov2024.csv",
         "﻿fecha",
         "delito",
         "x",
         "y",
         "colonia",
         "municipio",
         "clave_mun",
         "hora",
         "bien_afectado",
         "zona_geografica",
         "ID_municipio_unico"
        ],
        [
         "2",
         "raw_data/IIEG/Lagunas_nov23.csv",
         "﻿\"fecha\"",
         "\"delito\"",
         "\"x\"",
         "\"y\"",
         "\"colonia\"",
         "\"municipio\"",
         "\"clave_mun\"",
         "\"hora\"",
         "\"bien_afectado\"",
         "\"zona_geografica\"",
         "\"ID_municipio_unico\""
        ],
        [
         "3",
         "raw_data/IIEG/Costa_Sur_sep24.csv",
         "﻿\"fecha\"",
         "\"delito\"",
         "\"x\"",
         "\"y\"",
         "\"colonia\"",
         "\"municipio\"",
         "\"clave_mun\"",
         "\"hora\"",
         "\"bien_afectado\"",
         "\"zona_geografica\"",
         null
        ],
        [
         "4",
         "raw_data/IIEG/Centro_agosto24.csv",
         "﻿\"fecha\"",
         "\"delito\"",
         "\"x\"",
         "\"y\"",
         "\"colonia\"",
         "\"municipio\"",
         "\"clave_mun\"",
         "\"hora\"",
         "\"bien_afectado\"",
         "\"zona_geografica\"",
         null
        ],
        [
         "5",
         "raw_data/IIEG/Altos_Norte_mayo25.csv",
         "﻿\"fecha\"",
         "\"delito\"",
         "\"x\"",
         "\"y\"",
         "\"colonia\"",
         "\"municipio\"",
         "\"clave_mun\"",
         "\"hora\"",
         "\"bien_afectado\"",
         "\"zona_geografica\"",
         "\"ID_municipio_unico\""
        ],
        [
         "6",
         "raw_data/IIEG/datos_incidencia_delicitva_sierra_amula_jalisco_enero_2025.csv",
         "﻿fecha",
         "delito",
         "x",
         "y",
         "colonia",
         "municipio",
         "clave_mun",
         "hora",
         "bien_afectado",
         "zona_geografica",
         null
        ],
        [
         "7",
         "raw_data/IIEG/Altos_Sur_junio24.csv",
         "﻿\"fecha\"",
         "\"delito\"",
         "\"x\"",
         "\"y\"",
         "\"colonia\"",
         "\"municipio\"",
         "\"clave_mun\"",
         "\"hora\"",
         "\"bien_afectado\"",
         "\"zona_geografica\"",
         null
        ],
        [
         "8",
         "raw_data/IIEG/datos_incidencia_delictiva_sur_jalisco_feb_2025.csv",
         "﻿\"fecha\"",
         "\"delito\"",
         "\"x\"",
         "\"y\"",
         "\"colonia\"",
         "\"municipio\"",
         "\"clave_mun\"",
         "\"hora\"",
         "\"bien_afectado\"",
         "\"zona_geografica\"",
         "\"ID_municipio_unico\""
        ],
        [
         "9",
         "raw_data/IIEG/Sierra_Amula_ene24.csv",
         "﻿fecha",
         "delito",
         "x",
         "y",
         "colonia",
         "municipio",
         "clave_mun",
         "hora",
         "bien_afectado",
         "zona_geografica",
         null
        ],
        [
         "10",
         "raw_data/IIEG/Sureste_mar24.csv",
         "﻿\"fecha\"",
         "\"delito\"",
         "\"x\"",
         "\"y\"",
         "\"colonia\"",
         "\"municipio\"",
         "\"clave_mun\"",
         "\"hora\"",
         "\"bien_afectado\"",
         "\"zona_geografica\"",
         "\"ID_municipio_unico\""
        ],
        [
         "11",
         "raw_data/IIEG/Norte_diciembre23.csv",
         "﻿\"fecha\"",
         "\"delito\"",
         "\"x\"",
         "\"y\"",
         "\"colonia\"",
         "\"municipio\"",
         "\"clave_mun\"",
         "\"hora\"",
         "\"bien_afectado\"",
         "\"zona_geografica\"",
         null
        ],
        [
         "12",
         "raw_data/IIEG/Cienega_julio25.csv",
         "﻿\"fecha\"",
         "\"delito\"",
         "\"x\"",
         "\"y\"",
         "\"colonia\"",
         "\"municipio\"",
         "\"clave_mun\"",
         "\"hora\"",
         "\"bien_afectado\"",
         "\"zona_geografica\"",
         null
        ],
        [
         "13",
         "raw_data/IIEG/valles_abr25.csv",
         "﻿\"fecha\"",
         "\"delito\"",
         "\"x\"",
         "\"y\"",
         "\"colonia\"",
         "\"municipio\"",
         "\"clave_mun\"",
         "\"hora\"",
         "\"bien_afectado\"",
         "\"zona_geografica\"",
         "\"ID_municipio_unico\""
        ],
        [
         "14",
         "raw_data/IIEG/Altos_Norte_mayo24.csv",
         "﻿\"fecha\"",
         "\"delito\"",
         "\"x\"",
         "\"y\"",
         "\"colonia\"",
         "\"municipio\"",
         "\"clave_mun\"",
         "\"hora\"",
         "\"bien_afectado\"",
         "\"zona_geografica\"",
         "\"ID_municipio_unico\""
        ],
        [
         "15",
         "raw_data/IIEG/base_datos_incidencia_delictiva_sureste_jalisco_mar2025.csv",
         "﻿\"fecha\"",
         "\"delito\"",
         "\"x\"",
         "\"y\"",
         "\"colonia\"",
         "\"municipio\"",
         "\"clave_mun\"",
         "\"hora\"",
         "\"bien_afectado\"",
         "\"zona_geografica\"",
         "\"ID_municipio_unico\""
        ],
        [
         "16",
         "raw_data/IIEG/valles_abr24.csv",
         "﻿\"fecha\"",
         "\"delito\"",
         "\"x\"",
         "\"y\"",
         "\"colonia\"",
         "\"municipio\"",
         "\"clave_mun\"",
         "\"hora\"",
         "\"bien_afectado\"",
         "\"zona_geografica\"",
         "\"ID_municipio_unico\""
        ],
        [
         "17",
         "raw_data/IIEG/base_datos_incidencia_delictiva_ragion_norte_2017_2024.csv",
         "﻿fecha",
         "delito",
         "x",
         "y",
         "colonia",
         "municipio",
         "clave_mun",
         "hora",
         "bien_afectado",
         "zona_geografica",
         "ID_municipio_unico"
        ],
        [
         "18",
         "raw_data/IIEG/Costa_Sierra_Occidental_oct24.csv",
         "﻿\"fecha\"",
         "\"delito\"",
         "\"x\"",
         "\"y\"",
         "\"colonia\"",
         "\"municipio\"",
         "\"clave_mun\"",
         "\"hora\"",
         "\"bien_afectado\"",
         "\"zona_geografica\"",
         null
        ],
        [
         "19",
         "raw_data/IIEG/Sur_feb24.csv",
         "﻿\"fecha\"",
         "\"delito\"",
         "\"x\"",
         "\"y\"",
         "\"colonia\"",
         "\"municipio\"",
         "\"clave_mun\"",
         "\"hora\"",
         "\"bien_afectado\"",
         "\"zona_geografica\"",
         "\"ID_municipio_unico\""
        ],
        [
         "20",
         "raw_data/IIEG/Cienega_julio24.csv",
         "﻿\"fecha\"",
         "\"delito\"",
         "\"x\"",
         "\"y\"",
         "\"colonia\"",
         "\"municipio\"",
         "\"clave_mun\"",
         "\"hora\"",
         "\"bien_afectado\"",
         "\"zona_geografica\"",
         null
        ]
       ],
       "shape": {
        "columns": 12,
        "rows": 21
       }
      },
      "text/html": [
       "<div>\n",
       "<style scoped>\n",
       "    .dataframe tbody tr th:only-of-type {\n",
       "        vertical-align: middle;\n",
       "    }\n",
       "\n",
       "    .dataframe tbody tr th {\n",
       "        vertical-align: top;\n",
       "    }\n",
       "\n",
       "    .dataframe thead th {\n",
       "        text-align: right;\n",
       "    }\n",
       "</style>\n",
       "<table border=\"1\" class=\"dataframe\">\n",
       "  <thead>\n",
       "    <tr style=\"text-align: right;\">\n",
       "      <th></th>\n",
       "      <th>file</th>\n",
       "      <th>0</th>\n",
       "      <th>1</th>\n",
       "      <th>2</th>\n",
       "      <th>3</th>\n",
       "      <th>4</th>\n",
       "      <th>5</th>\n",
       "      <th>6</th>\n",
       "      <th>7</th>\n",
       "      <th>8</th>\n",
       "      <th>9</th>\n",
       "      <th>10</th>\n",
       "    </tr>\n",
       "  </thead>\n",
       "  <tbody>\n",
       "    <tr>\n",
       "      <th>0</th>\n",
       "      <td>raw_data/IIEG/Altos_Sur_junio25.csv</td>\n",
       "      <td>﻿\"fecha\"</td>\n",
       "      <td>\"delito\"</td>\n",
       "      <td>\"x\"</td>\n",
       "      <td>\"y\"</td>\n",
       "      <td>\"colonia\"</td>\n",
       "      <td>\"municipio\"</td>\n",
       "      <td>\"clave_mun\"</td>\n",
       "      <td>\"hora\"</td>\n",
       "      <td>\"bien_afectado\"</td>\n",
       "      <td>\"zona_geografica\"</td>\n",
       "      <td>\"ID_municipio_unico\"</td>\n",
       "    </tr>\n",
       "    <tr>\n",
       "      <th>1</th>\n",
       "      <td>raw_data/IIEG/base_datos_incidencia_delictiva_...</td>\n",
       "      <td>﻿fecha</td>\n",
       "      <td>delito</td>\n",
       "      <td>x</td>\n",
       "      <td>y</td>\n",
       "      <td>colonia</td>\n",
       "      <td>municipio</td>\n",
       "      <td>clave_mun</td>\n",
       "      <td>hora</td>\n",
       "      <td>bien_afectado</td>\n",
       "      <td>zona_geografica</td>\n",
       "      <td>ID_municipio_unico</td>\n",
       "    </tr>\n",
       "    <tr>\n",
       "      <th>2</th>\n",
       "      <td>raw_data/IIEG/Lagunas_nov23.csv</td>\n",
       "      <td>﻿\"fecha\"</td>\n",
       "      <td>\"delito\"</td>\n",
       "      <td>\"x\"</td>\n",
       "      <td>\"y\"</td>\n",
       "      <td>\"colonia\"</td>\n",
       "      <td>\"municipio\"</td>\n",
       "      <td>\"clave_mun\"</td>\n",
       "      <td>\"hora\"</td>\n",
       "      <td>\"bien_afectado\"</td>\n",
       "      <td>\"zona_geografica\"</td>\n",
       "      <td>\"ID_municipio_unico\"</td>\n",
       "    </tr>\n",
       "    <tr>\n",
       "      <th>3</th>\n",
       "      <td>raw_data/IIEG/Costa_Sur_sep24.csv</td>\n",
       "      <td>﻿\"fecha\"</td>\n",
       "      <td>\"delito\"</td>\n",
       "      <td>\"x\"</td>\n",
       "      <td>\"y\"</td>\n",
       "      <td>\"colonia\"</td>\n",
       "      <td>\"municipio\"</td>\n",
       "      <td>\"clave_mun\"</td>\n",
       "      <td>\"hora\"</td>\n",
       "      <td>\"bien_afectado\"</td>\n",
       "      <td>\"zona_geografica\"</td>\n",
       "      <td>None</td>\n",
       "    </tr>\n",
       "    <tr>\n",
       "      <th>4</th>\n",
       "      <td>raw_data/IIEG/Centro_agosto24.csv</td>\n",
       "      <td>﻿\"fecha\"</td>\n",
       "      <td>\"delito\"</td>\n",
       "      <td>\"x\"</td>\n",
       "      <td>\"y\"</td>\n",
       "      <td>\"colonia\"</td>\n",
       "      <td>\"municipio\"</td>\n",
       "      <td>\"clave_mun\"</td>\n",
       "      <td>\"hora\"</td>\n",
       "      <td>\"bien_afectado\"</td>\n",
       "      <td>\"zona_geografica\"</td>\n",
       "      <td>None</td>\n",
       "    </tr>\n",
       "    <tr>\n",
       "      <th>5</th>\n",
       "      <td>raw_data/IIEG/Altos_Norte_mayo25.csv</td>\n",
       "      <td>﻿\"fecha\"</td>\n",
       "      <td>\"delito\"</td>\n",
       "      <td>\"x\"</td>\n",
       "      <td>\"y\"</td>\n",
       "      <td>\"colonia\"</td>\n",
       "      <td>\"municipio\"</td>\n",
       "      <td>\"clave_mun\"</td>\n",
       "      <td>\"hora\"</td>\n",
       "      <td>\"bien_afectado\"</td>\n",
       "      <td>\"zona_geografica\"</td>\n",
       "      <td>\"ID_municipio_unico\"</td>\n",
       "    </tr>\n",
       "    <tr>\n",
       "      <th>6</th>\n",
       "      <td>raw_data/IIEG/datos_incidencia_delicitva_sierr...</td>\n",
       "      <td>﻿fecha</td>\n",
       "      <td>delito</td>\n",
       "      <td>x</td>\n",
       "      <td>y</td>\n",
       "      <td>colonia</td>\n",
       "      <td>municipio</td>\n",
       "      <td>clave_mun</td>\n",
       "      <td>hora</td>\n",
       "      <td>bien_afectado</td>\n",
       "      <td>zona_geografica</td>\n",
       "      <td>None</td>\n",
       "    </tr>\n",
       "    <tr>\n",
       "      <th>7</th>\n",
       "      <td>raw_data/IIEG/Altos_Sur_junio24.csv</td>\n",
       "      <td>﻿\"fecha\"</td>\n",
       "      <td>\"delito\"</td>\n",
       "      <td>\"x\"</td>\n",
       "      <td>\"y\"</td>\n",
       "      <td>\"colonia\"</td>\n",
       "      <td>\"municipio\"</td>\n",
       "      <td>\"clave_mun\"</td>\n",
       "      <td>\"hora\"</td>\n",
       "      <td>\"bien_afectado\"</td>\n",
       "      <td>\"zona_geografica\"</td>\n",
       "      <td>None</td>\n",
       "    </tr>\n",
       "    <tr>\n",
       "      <th>8</th>\n",
       "      <td>raw_data/IIEG/datos_incidencia_delictiva_sur_j...</td>\n",
       "      <td>﻿\"fecha\"</td>\n",
       "      <td>\"delito\"</td>\n",
       "      <td>\"x\"</td>\n",
       "      <td>\"y\"</td>\n",
       "      <td>\"colonia\"</td>\n",
       "      <td>\"municipio\"</td>\n",
       "      <td>\"clave_mun\"</td>\n",
       "      <td>\"hora\"</td>\n",
       "      <td>\"bien_afectado\"</td>\n",
       "      <td>\"zona_geografica\"</td>\n",
       "      <td>\"ID_municipio_unico\"</td>\n",
       "    </tr>\n",
       "    <tr>\n",
       "      <th>9</th>\n",
       "      <td>raw_data/IIEG/Sierra_Amula_ene24.csv</td>\n",
       "      <td>﻿fecha</td>\n",
       "      <td>delito</td>\n",
       "      <td>x</td>\n",
       "      <td>y</td>\n",
       "      <td>colonia</td>\n",
       "      <td>municipio</td>\n",
       "      <td>clave_mun</td>\n",
       "      <td>hora</td>\n",
       "      <td>bien_afectado</td>\n",
       "      <td>zona_geografica</td>\n",
       "      <td>None</td>\n",
       "    </tr>\n",
       "    <tr>\n",
       "      <th>10</th>\n",
       "      <td>raw_data/IIEG/Sureste_mar24.csv</td>\n",
       "      <td>﻿\"fecha\"</td>\n",
       "      <td>\"delito\"</td>\n",
       "      <td>\"x\"</td>\n",
       "      <td>\"y\"</td>\n",
       "      <td>\"colonia\"</td>\n",
       "      <td>\"municipio\"</td>\n",
       "      <td>\"clave_mun\"</td>\n",
       "      <td>\"hora\"</td>\n",
       "      <td>\"bien_afectado\"</td>\n",
       "      <td>\"zona_geografica\"</td>\n",
       "      <td>\"ID_municipio_unico\"</td>\n",
       "    </tr>\n",
       "    <tr>\n",
       "      <th>11</th>\n",
       "      <td>raw_data/IIEG/Norte_diciembre23.csv</td>\n",
       "      <td>﻿\"fecha\"</td>\n",
       "      <td>\"delito\"</td>\n",
       "      <td>\"x\"</td>\n",
       "      <td>\"y\"</td>\n",
       "      <td>\"colonia\"</td>\n",
       "      <td>\"municipio\"</td>\n",
       "      <td>\"clave_mun\"</td>\n",
       "      <td>\"hora\"</td>\n",
       "      <td>\"bien_afectado\"</td>\n",
       "      <td>\"zona_geografica\"</td>\n",
       "      <td>None</td>\n",
       "    </tr>\n",
       "    <tr>\n",
       "      <th>12</th>\n",
       "      <td>raw_data/IIEG/Cienega_julio25.csv</td>\n",
       "      <td>﻿\"fecha\"</td>\n",
       "      <td>\"delito\"</td>\n",
       "      <td>\"x\"</td>\n",
       "      <td>\"y\"</td>\n",
       "      <td>\"colonia\"</td>\n",
       "      <td>\"municipio\"</td>\n",
       "      <td>\"clave_mun\"</td>\n",
       "      <td>\"hora\"</td>\n",
       "      <td>\"bien_afectado\"</td>\n",
       "      <td>\"zona_geografica\"</td>\n",
       "      <td>None</td>\n",
       "    </tr>\n",
       "    <tr>\n",
       "      <th>13</th>\n",
       "      <td>raw_data/IIEG/valles_abr25.csv</td>\n",
       "      <td>﻿\"fecha\"</td>\n",
       "      <td>\"delito\"</td>\n",
       "      <td>\"x\"</td>\n",
       "      <td>\"y\"</td>\n",
       "      <td>\"colonia\"</td>\n",
       "      <td>\"municipio\"</td>\n",
       "      <td>\"clave_mun\"</td>\n",
       "      <td>\"hora\"</td>\n",
       "      <td>\"bien_afectado\"</td>\n",
       "      <td>\"zona_geografica\"</td>\n",
       "      <td>\"ID_municipio_unico\"</td>\n",
       "    </tr>\n",
       "    <tr>\n",
       "      <th>14</th>\n",
       "      <td>raw_data/IIEG/Altos_Norte_mayo24.csv</td>\n",
       "      <td>﻿\"fecha\"</td>\n",
       "      <td>\"delito\"</td>\n",
       "      <td>\"x\"</td>\n",
       "      <td>\"y\"</td>\n",
       "      <td>\"colonia\"</td>\n",
       "      <td>\"municipio\"</td>\n",
       "      <td>\"clave_mun\"</td>\n",
       "      <td>\"hora\"</td>\n",
       "      <td>\"bien_afectado\"</td>\n",
       "      <td>\"zona_geografica\"</td>\n",
       "      <td>\"ID_municipio_unico\"</td>\n",
       "    </tr>\n",
       "    <tr>\n",
       "      <th>15</th>\n",
       "      <td>raw_data/IIEG/base_datos_incidencia_delictiva_...</td>\n",
       "      <td>﻿\"fecha\"</td>\n",
       "      <td>\"delito\"</td>\n",
       "      <td>\"x\"</td>\n",
       "      <td>\"y\"</td>\n",
       "      <td>\"colonia\"</td>\n",
       "      <td>\"municipio\"</td>\n",
       "      <td>\"clave_mun\"</td>\n",
       "      <td>\"hora\"</td>\n",
       "      <td>\"bien_afectado\"</td>\n",
       "      <td>\"zona_geografica\"</td>\n",
       "      <td>\"ID_municipio_unico\"</td>\n",
       "    </tr>\n",
       "    <tr>\n",
       "      <th>16</th>\n",
       "      <td>raw_data/IIEG/valles_abr24.csv</td>\n",
       "      <td>﻿\"fecha\"</td>\n",
       "      <td>\"delito\"</td>\n",
       "      <td>\"x\"</td>\n",
       "      <td>\"y\"</td>\n",
       "      <td>\"colonia\"</td>\n",
       "      <td>\"municipio\"</td>\n",
       "      <td>\"clave_mun\"</td>\n",
       "      <td>\"hora\"</td>\n",
       "      <td>\"bien_afectado\"</td>\n",
       "      <td>\"zona_geografica\"</td>\n",
       "      <td>\"ID_municipio_unico\"</td>\n",
       "    </tr>\n",
       "    <tr>\n",
       "      <th>17</th>\n",
       "      <td>raw_data/IIEG/base_datos_incidencia_delictiva_...</td>\n",
       "      <td>﻿fecha</td>\n",
       "      <td>delito</td>\n",
       "      <td>x</td>\n",
       "      <td>y</td>\n",
       "      <td>colonia</td>\n",
       "      <td>municipio</td>\n",
       "      <td>clave_mun</td>\n",
       "      <td>hora</td>\n",
       "      <td>bien_afectado</td>\n",
       "      <td>zona_geografica</td>\n",
       "      <td>ID_municipio_unico</td>\n",
       "    </tr>\n",
       "    <tr>\n",
       "      <th>18</th>\n",
       "      <td>raw_data/IIEG/Costa_Sierra_Occidental_oct24.csv</td>\n",
       "      <td>﻿\"fecha\"</td>\n",
       "      <td>\"delito\"</td>\n",
       "      <td>\"x\"</td>\n",
       "      <td>\"y\"</td>\n",
       "      <td>\"colonia\"</td>\n",
       "      <td>\"municipio\"</td>\n",
       "      <td>\"clave_mun\"</td>\n",
       "      <td>\"hora\"</td>\n",
       "      <td>\"bien_afectado\"</td>\n",
       "      <td>\"zona_geografica\"</td>\n",
       "      <td>None</td>\n",
       "    </tr>\n",
       "    <tr>\n",
       "      <th>19</th>\n",
       "      <td>raw_data/IIEG/Sur_feb24.csv</td>\n",
       "      <td>﻿\"fecha\"</td>\n",
       "      <td>\"delito\"</td>\n",
       "      <td>\"x\"</td>\n",
       "      <td>\"y\"</td>\n",
       "      <td>\"colonia\"</td>\n",
       "      <td>\"municipio\"</td>\n",
       "      <td>\"clave_mun\"</td>\n",
       "      <td>\"hora\"</td>\n",
       "      <td>\"bien_afectado\"</td>\n",
       "      <td>\"zona_geografica\"</td>\n",
       "      <td>\"ID_municipio_unico\"</td>\n",
       "    </tr>\n",
       "    <tr>\n",
       "      <th>20</th>\n",
       "      <td>raw_data/IIEG/Cienega_julio24.csv</td>\n",
       "      <td>﻿\"fecha\"</td>\n",
       "      <td>\"delito\"</td>\n",
       "      <td>\"x\"</td>\n",
       "      <td>\"y\"</td>\n",
       "      <td>\"colonia\"</td>\n",
       "      <td>\"municipio\"</td>\n",
       "      <td>\"clave_mun\"</td>\n",
       "      <td>\"hora\"</td>\n",
       "      <td>\"bien_afectado\"</td>\n",
       "      <td>\"zona_geografica\"</td>\n",
       "      <td>None</td>\n",
       "    </tr>\n",
       "  </tbody>\n",
       "</table>\n",
       "</div>"
      ],
      "text/plain": [
       "                                                 file         0         1  \\\n",
       "0                 raw_data/IIEG/Altos_Sur_junio25.csv  ﻿\"fecha\"  \"delito\"   \n",
       "1   raw_data/IIEG/base_datos_incidencia_delictiva_...    ﻿fecha    delito   \n",
       "2                     raw_data/IIEG/Lagunas_nov23.csv  ﻿\"fecha\"  \"delito\"   \n",
       "3                   raw_data/IIEG/Costa_Sur_sep24.csv  ﻿\"fecha\"  \"delito\"   \n",
       "4                   raw_data/IIEG/Centro_agosto24.csv  ﻿\"fecha\"  \"delito\"   \n",
       "5                raw_data/IIEG/Altos_Norte_mayo25.csv  ﻿\"fecha\"  \"delito\"   \n",
       "6   raw_data/IIEG/datos_incidencia_delicitva_sierr...    ﻿fecha    delito   \n",
       "7                 raw_data/IIEG/Altos_Sur_junio24.csv  ﻿\"fecha\"  \"delito\"   \n",
       "8   raw_data/IIEG/datos_incidencia_delictiva_sur_j...  ﻿\"fecha\"  \"delito\"   \n",
       "9                raw_data/IIEG/Sierra_Amula_ene24.csv    ﻿fecha    delito   \n",
       "10                    raw_data/IIEG/Sureste_mar24.csv  ﻿\"fecha\"  \"delito\"   \n",
       "11                raw_data/IIEG/Norte_diciembre23.csv  ﻿\"fecha\"  \"delito\"   \n",
       "12                  raw_data/IIEG/Cienega_julio25.csv  ﻿\"fecha\"  \"delito\"   \n",
       "13                     raw_data/IIEG/valles_abr25.csv  ﻿\"fecha\"  \"delito\"   \n",
       "14               raw_data/IIEG/Altos_Norte_mayo24.csv  ﻿\"fecha\"  \"delito\"   \n",
       "15  raw_data/IIEG/base_datos_incidencia_delictiva_...  ﻿\"fecha\"  \"delito\"   \n",
       "16                     raw_data/IIEG/valles_abr24.csv  ﻿\"fecha\"  \"delito\"   \n",
       "17  raw_data/IIEG/base_datos_incidencia_delictiva_...    ﻿fecha    delito   \n",
       "18    raw_data/IIEG/Costa_Sierra_Occidental_oct24.csv  ﻿\"fecha\"  \"delito\"   \n",
       "19                        raw_data/IIEG/Sur_feb24.csv  ﻿\"fecha\"  \"delito\"   \n",
       "20                  raw_data/IIEG/Cienega_julio24.csv  ﻿\"fecha\"  \"delito\"   \n",
       "\n",
       "      2    3          4            5            6       7                8  \\\n",
       "0   \"x\"  \"y\"  \"colonia\"  \"municipio\"  \"clave_mun\"  \"hora\"  \"bien_afectado\"   \n",
       "1     x    y    colonia    municipio    clave_mun    hora    bien_afectado   \n",
       "2   \"x\"  \"y\"  \"colonia\"  \"municipio\"  \"clave_mun\"  \"hora\"  \"bien_afectado\"   \n",
       "3   \"x\"  \"y\"  \"colonia\"  \"municipio\"  \"clave_mun\"  \"hora\"  \"bien_afectado\"   \n",
       "4   \"x\"  \"y\"  \"colonia\"  \"municipio\"  \"clave_mun\"  \"hora\"  \"bien_afectado\"   \n",
       "5   \"x\"  \"y\"  \"colonia\"  \"municipio\"  \"clave_mun\"  \"hora\"  \"bien_afectado\"   \n",
       "6     x    y    colonia    municipio    clave_mun    hora    bien_afectado   \n",
       "7   \"x\"  \"y\"  \"colonia\"  \"municipio\"  \"clave_mun\"  \"hora\"  \"bien_afectado\"   \n",
       "8   \"x\"  \"y\"  \"colonia\"  \"municipio\"  \"clave_mun\"  \"hora\"  \"bien_afectado\"   \n",
       "9     x    y    colonia    municipio    clave_mun    hora    bien_afectado   \n",
       "10  \"x\"  \"y\"  \"colonia\"  \"municipio\"  \"clave_mun\"  \"hora\"  \"bien_afectado\"   \n",
       "11  \"x\"  \"y\"  \"colonia\"  \"municipio\"  \"clave_mun\"  \"hora\"  \"bien_afectado\"   \n",
       "12  \"x\"  \"y\"  \"colonia\"  \"municipio\"  \"clave_mun\"  \"hora\"  \"bien_afectado\"   \n",
       "13  \"x\"  \"y\"  \"colonia\"  \"municipio\"  \"clave_mun\"  \"hora\"  \"bien_afectado\"   \n",
       "14  \"x\"  \"y\"  \"colonia\"  \"municipio\"  \"clave_mun\"  \"hora\"  \"bien_afectado\"   \n",
       "15  \"x\"  \"y\"  \"colonia\"  \"municipio\"  \"clave_mun\"  \"hora\"  \"bien_afectado\"   \n",
       "16  \"x\"  \"y\"  \"colonia\"  \"municipio\"  \"clave_mun\"  \"hora\"  \"bien_afectado\"   \n",
       "17    x    y    colonia    municipio    clave_mun    hora    bien_afectado   \n",
       "18  \"x\"  \"y\"  \"colonia\"  \"municipio\"  \"clave_mun\"  \"hora\"  \"bien_afectado\"   \n",
       "19  \"x\"  \"y\"  \"colonia\"  \"municipio\"  \"clave_mun\"  \"hora\"  \"bien_afectado\"   \n",
       "20  \"x\"  \"y\"  \"colonia\"  \"municipio\"  \"clave_mun\"  \"hora\"  \"bien_afectado\"   \n",
       "\n",
       "                    9                    10  \n",
       "0   \"zona_geografica\"  \"ID_municipio_unico\"  \n",
       "1     zona_geografica    ID_municipio_unico  \n",
       "2   \"zona_geografica\"  \"ID_municipio_unico\"  \n",
       "3   \"zona_geografica\"                  None  \n",
       "4   \"zona_geografica\"                  None  \n",
       "5   \"zona_geografica\"  \"ID_municipio_unico\"  \n",
       "6     zona_geografica                  None  \n",
       "7   \"zona_geografica\"                  None  \n",
       "8   \"zona_geografica\"  \"ID_municipio_unico\"  \n",
       "9     zona_geografica                  None  \n",
       "10  \"zona_geografica\"  \"ID_municipio_unico\"  \n",
       "11  \"zona_geografica\"                  None  \n",
       "12  \"zona_geografica\"                  None  \n",
       "13  \"zona_geografica\"  \"ID_municipio_unico\"  \n",
       "14  \"zona_geografica\"  \"ID_municipio_unico\"  \n",
       "15  \"zona_geografica\"  \"ID_municipio_unico\"  \n",
       "16  \"zona_geografica\"  \"ID_municipio_unico\"  \n",
       "17    zona_geografica    ID_municipio_unico  \n",
       "18  \"zona_geografica\"                  None  \n",
       "19  \"zona_geografica\"  \"ID_municipio_unico\"  \n",
       "20  \"zona_geografica\"                  None  "
      ]
     },
     "execution_count": 4,
     "metadata": {},
     "output_type": "execute_result"
    }
   ],
   "source": [
    "files = glob('raw_data/IIEG/*.csv')\n",
    "headers = list(map(get_headers, files))\n",
    "\n",
    "data_headers = pd.DataFrame(headers)\n",
    "data_headers.insert(0, 'file', files)\n",
    "\n",
    "data_headers"
   ]
  },
  {
   "cell_type": "code",
   "execution_count": 5,
   "id": "327f65b8",
   "metadata": {},
   "outputs": [],
   "source": [
    "def file_length(filename):\n",
    "    with open(filename, 'r', encoding='utf-8') as f:\n",
    "        return sum(1 for _ in f)\n",
    "\n",
    "\n",
    "def normalize_file(filename, dest_path, cols):\n",
    "    chars = dict(zip('áéíóúÁÉÍÓÚñÑüÜ','aeiouAEIOUnNuU'))\n",
    "    trtable = str.maketrans({**chars, ';': ':', '\\n': ''})\n",
    "    new_rows = []\n",
    "\n",
    "    with open(filename, 'r', encoding='utf-8-sig') as f:\n",
    "        reader = csv.reader(f)\n",
    "        for row in tqdm(reader, total=file_length(filename)):\n",
    "            items = [cell.translate(trtable).lower().strip() for cell in row[:cols]]\n",
    "            new_rows.append(items)\n",
    "\n",
    "    with open(dest_path, 'w', encoding='utf-8-sig', newline='') as f:\n",
    "        writer = csv.writer(f, delimiter=',', quotechar='\"', quoting=csv.QUOTE_ALL)\n",
    "        writer.writerows(new_rows)"
   ]
  },
  {
   "cell_type": "code",
   "execution_count": 7,
   "id": "812f9b24",
   "metadata": {},
   "outputs": [
    {
     "data": {
      "text/plain": [
       "['raw_data/IIEG/Altos_Sur_junio25.csv',\n",
       " 'raw_data/IIEG/Altos_Norte_mayo25.csv',\n",
       " 'raw_data/IIEG/datos_incidencia_delicitva_sierra_amula_jalisco_enero_2025.csv',\n",
       " 'raw_data/IIEG/datos_incidencia_delictiva_sur_jalisco_feb_2025.csv',\n",
       " 'raw_data/IIEG/Cienega_julio25.csv',\n",
       " 'raw_data/IIEG/valles_abr25.csv',\n",
       " 'raw_data/IIEG/base_datos_incidencia_delictiva_sureste_jalisco_mar2025.csv']"
      ]
     },
     "execution_count": 7,
     "metadata": {},
     "output_type": "execute_result"
    }
   ],
   "source": [
    "[f for f in files if \"25\" in f]"
   ]
  },
  {
   "cell_type": "code",
   "execution_count": 6,
   "id": "639f8ccf",
   "metadata": {},
   "outputs": [
    {
     "data": {
      "text/plain": [
       "['raw_data/IIEG/base_datos_incidencia_delictiva_region_lagunas_enero2017_nov2024.csv',\n",
       " 'raw_data/IIEG/Lagunas_nov23.csv',\n",
       " 'raw_data/IIEG/Costa_Sur_sep24.csv',\n",
       " 'raw_data/IIEG/Centro_agosto24.csv',\n",
       " 'raw_data/IIEG/Altos_Sur_junio24.csv',\n",
       " 'raw_data/IIEG/Sierra_Amula_ene24.csv',\n",
       " 'raw_data/IIEG/Sureste_mar24.csv',\n",
       " 'raw_data/IIEG/Norte_diciembre23.csv',\n",
       " 'raw_data/IIEG/Altos_Norte_mayo24.csv',\n",
       " 'raw_data/IIEG/valles_abr24.csv',\n",
       " 'raw_data/IIEG/base_datos_incidencia_delictiva_ragion_norte_2017_2024.csv',\n",
       " 'raw_data/IIEG/Costa_Sierra_Occidental_oct24.csv',\n",
       " 'raw_data/IIEG/Sur_feb24.csv',\n",
       " 'raw_data/IIEG/Cienega_julio24.csv']"
      ]
     },
     "execution_count": 6,
     "metadata": {},
     "output_type": "execute_result"
    }
   ],
   "source": [
    "[f for f in files if \"25\" not in f]"
   ]
  },
  {
   "cell_type": "code",
   "execution_count": null,
   "id": "2e35a470",
   "metadata": {},
   "outputs": [
    {
     "name": "stderr",
     "output_type": "stream",
     "text": [
      "100%|██████████| 12915/12915 [00:00<00:00, 71202.78it/s]\n",
      "100%|██████████| 7224/7224 [00:00<00:00, 83013.88it/s]\n",
      "100%|██████████| 6323/6323 [00:00<00:00, 80299.46it/s]\n",
      "100%|██████████| 3552/3552 [00:00<00:00, 84135.26it/s]\n",
      "100%|██████████| 475312/475312 [00:08<00:00, 57686.70it/s]\n",
      "100%|██████████| 15348/15348 [00:00<00:00, 64003.53it/s]\n",
      "100%|██████████| 6135/6135 [00:00<00:00, 81504.84it/s]\n",
      "100%|██████████| 11632/11632 [00:00<00:00, 39305.56it/s]\n",
      "100%|██████████| 8976/8976 [00:00<00:00, 78306.89it/s]\n",
      "100%|██████████| 3667/3667 [00:00<00:00, 84789.23it/s]\n",
      "100%|██████████| 6146/6146 [00:00<00:00, 83583.35it/s]\n",
      "100%|██████████| 1442/1442 [00:00<00:00, 83248.72it/s]\n",
      "100%|██████████| 11836/11836 [00:00<00:00, 81478.08it/s]\n",
      "100%|██████████| 13850/13850 [00:00<00:00, 84761.23it/s]\n",
      "100%|██████████| 13838/13838 [00:00<00:00, 78074.24it/s]\n",
      "100%|██████████| 6907/6907 [00:00<00:00, 83356.28it/s]\n",
      "100%|██████████| 12081/12081 [00:00<00:00, 85150.97it/s]\n",
      "100%|██████████| 1689/1689 [00:00<00:00, 60776.06it/s]\n",
      "100%|██████████| 21345/21345 [00:00<00:00, 61502.04it/s]\n",
      "100%|██████████| 7707/7707 [00:00<00:00, 77815.89it/s]\n",
      "100%|██████████| 10304/10304 [00:00<00:00, 85241.47it/s]\n"
     ]
    }
   ],
   "source": [
    "for file in files:\n",
    "    normalize_file(file, 'data/IIEG/' + file.split('/')[-1], 10)"
   ]
  },
  {
   "cell_type": "code",
   "execution_count": 8,
   "id": "587e6f8a",
   "metadata": {},
   "outputs": [
    {
     "data": {
      "text/html": [
       "<div><style>\n",
       ".dataframe > thead > tr,\n",
       ".dataframe > tbody > tr {\n",
       "  text-align: right;\n",
       "  white-space: pre-wrap;\n",
       "}\n",
       "</style>\n",
       "<small>shape: (582_248, 10)</small><table border=\"1\" class=\"dataframe\"><thead><tr><th>fecha</th><th>delito</th><th>x</th><th>y</th><th>colonia</th><th>municipio</th><th>clave_mun</th><th>hora</th><th>bien_afectado</th><th>zona_geografica</th></tr><tr><td>str</td><td>str</td><td>str</td><td>str</td><td>str</td><td>str</td><td>str</td><td>str</td><td>str</td><td>str</td></tr></thead><tbody><tr><td>&quot;12/01/2017&quot;</td><td>&quot;robo a casa habitacion&quot;</td><td>&quot;na&quot;</td><td>&quot;na&quot;</td><td>&quot;no disponible&quot;</td><td>&quot;san martin hidalgo&quot;</td><td>&quot;77&quot;</td><td>&quot;17:45&quot;</td><td>&quot;el patrimonio&quot;</td><td>&quot;interior&quot;</td></tr><tr><td>&quot;20/01/2017&quot;</td><td>&quot;lesiones dolosas&quot;</td><td>&quot;na&quot;</td><td>&quot;na&quot;</td><td>&quot;no disponible&quot;</td><td>&quot;tapalpa&quot;</td><td>&quot;86&quot;</td><td>&quot;05:30&quot;</td><td>&quot;la vida y la integridad corpor…</td><td>&quot;interior&quot;</td></tr><tr><td>&quot;19/01/2017&quot;</td><td>&quot;robo a vehiculos particulares&quot;</td><td>&quot;na&quot;</td><td>&quot;na&quot;</td><td>&quot;no disponible&quot;</td><td>&quot;san martin hidalgo&quot;</td><td>&quot;77&quot;</td><td>&quot;05:30&quot;</td><td>&quot;el patrimonio&quot;</td><td>&quot;interior&quot;</td></tr><tr><td>&quot;13/01/2017&quot;</td><td>&quot;lesiones dolosas&quot;</td><td>&quot;na&quot;</td><td>&quot;na&quot;</td><td>&quot;no disponible&quot;</td><td>&quot;san martin hidalgo&quot;</td><td>&quot;77&quot;</td><td>&quot;05:30&quot;</td><td>&quot;la vida y la integridad corpor…</td><td>&quot;interior&quot;</td></tr><tr><td>&quot;23/01/2017&quot;</td><td>&quot;violencia familiar&quot;</td><td>&quot;na&quot;</td><td>&quot;na&quot;</td><td>&quot;no disponible&quot;</td><td>&quot;san martin hidalgo&quot;</td><td>&quot;77&quot;</td><td>&quot;17:45&quot;</td><td>&quot;la familia&quot;</td><td>&quot;interior&quot;</td></tr><tr><td>&hellip;</td><td>&hellip;</td><td>&hellip;</td><td>&hellip;</td><td>&hellip;</td><td>&hellip;</td><td>&hellip;</td><td>&hellip;</td><td>&hellip;</td><td>&hellip;</td></tr><tr><td>&quot;2024-04-10&quot;</td><td>&quot;violencia familiar&quot;</td><td>&quot;na&quot;</td><td>&quot;na&quot;</td><td>&quot;no disponible&quot;</td><td>&quot;la barca&quot;</td><td>&quot;18&quot;</td><td>&quot;14:30&quot;</td><td>&quot;la familia&quot;</td><td>&quot;interior&quot;</td></tr><tr><td>&quot;2024-06-18&quot;</td><td>&quot;violencia familiar&quot;</td><td>&quot;na&quot;</td><td>&quot;na&quot;</td><td>&quot;no disponible&quot;</td><td>&quot;ocotlan&quot;</td><td>&quot;63&quot;</td><td>&quot;11:30&quot;</td><td>&quot;la familia&quot;</td><td>&quot;interior&quot;</td></tr><tr><td>&quot;2024-06-24&quot;</td><td>&quot;violencia familiar&quot;</td><td>&quot;na&quot;</td><td>&quot;na&quot;</td><td>&quot;no disponible&quot;</td><td>&quot;ocotlan&quot;</td><td>&quot;63&quot;</td><td>&quot;01:27&quot;</td><td>&quot;la familia&quot;</td><td>&quot;interior&quot;</td></tr><tr><td>&quot;2024-07-09&quot;</td><td>&quot;violencia familiar&quot;</td><td>&quot;na&quot;</td><td>&quot;na&quot;</td><td>&quot;no disponible&quot;</td><td>&quot;ocotlan&quot;</td><td>&quot;63&quot;</td><td>&quot;08:30&quot;</td><td>&quot;la familia&quot;</td><td>&quot;interior&quot;</td></tr><tr><td>&quot;2024-07-28&quot;</td><td>&quot;violencia familiar&quot;</td><td>&quot;na&quot;</td><td>&quot;na&quot;</td><td>&quot;no disponible&quot;</td><td>&quot;la barca&quot;</td><td>&quot;18&quot;</td><td>&quot;11:14&quot;</td><td>&quot;la familia&quot;</td><td>&quot;interior&quot;</td></tr></tbody></table></div>"
      ],
      "text/plain": [
       "shape: (582_248, 10)\n",
       "┌────────────┬────────────────┬─────┬─────┬───┬───────────┬───────┬────────────────┬───────────────┐\n",
       "│ fecha      ┆ delito         ┆ x   ┆ y   ┆ … ┆ clave_mun ┆ hora  ┆ bien_afectado  ┆ zona_geografi │\n",
       "│ ---        ┆ ---            ┆ --- ┆ --- ┆   ┆ ---       ┆ ---   ┆ ---            ┆ ca            │\n",
       "│ str        ┆ str            ┆ str ┆ str ┆   ┆ str       ┆ str   ┆ str            ┆ ---           │\n",
       "│            ┆                ┆     ┆     ┆   ┆           ┆       ┆                ┆ str           │\n",
       "╞════════════╪════════════════╪═════╪═════╪═══╪═══════════╪═══════╪════════════════╪═══════════════╡\n",
       "│ 12/01/2017 ┆ robo a casa    ┆ na  ┆ na  ┆ … ┆ 77        ┆ 17:45 ┆ el patrimonio  ┆ interior      │\n",
       "│            ┆ habitacion     ┆     ┆     ┆   ┆           ┆       ┆                ┆               │\n",
       "│ 20/01/2017 ┆ lesiones       ┆ na  ┆ na  ┆ … ┆ 86        ┆ 05:30 ┆ la vida y la   ┆ interior      │\n",
       "│            ┆ dolosas        ┆     ┆     ┆   ┆           ┆       ┆ integridad     ┆               │\n",
       "│            ┆                ┆     ┆     ┆   ┆           ┆       ┆ corpor…        ┆               │\n",
       "│ 19/01/2017 ┆ robo a         ┆ na  ┆ na  ┆ … ┆ 77        ┆ 05:30 ┆ el patrimonio  ┆ interior      │\n",
       "│            ┆ vehiculos      ┆     ┆     ┆   ┆           ┆       ┆                ┆               │\n",
       "│            ┆ particulares   ┆     ┆     ┆   ┆           ┆       ┆                ┆               │\n",
       "│ 13/01/2017 ┆ lesiones       ┆ na  ┆ na  ┆ … ┆ 77        ┆ 05:30 ┆ la vida y la   ┆ interior      │\n",
       "│            ┆ dolosas        ┆     ┆     ┆   ┆           ┆       ┆ integridad     ┆               │\n",
       "│            ┆                ┆     ┆     ┆   ┆           ┆       ┆ corpor…        ┆               │\n",
       "│ 23/01/2017 ┆ violencia      ┆ na  ┆ na  ┆ … ┆ 77        ┆ 17:45 ┆ la familia     ┆ interior      │\n",
       "│            ┆ familiar       ┆     ┆     ┆   ┆           ┆       ┆                ┆               │\n",
       "│ …          ┆ …              ┆ …   ┆ …   ┆ … ┆ …         ┆ …     ┆ …              ┆ …             │\n",
       "│ 2024-04-10 ┆ violencia      ┆ na  ┆ na  ┆ … ┆ 18        ┆ 14:30 ┆ la familia     ┆ interior      │\n",
       "│            ┆ familiar       ┆     ┆     ┆   ┆           ┆       ┆                ┆               │\n",
       "│ 2024-06-18 ┆ violencia      ┆ na  ┆ na  ┆ … ┆ 63        ┆ 11:30 ┆ la familia     ┆ interior      │\n",
       "│            ┆ familiar       ┆     ┆     ┆   ┆           ┆       ┆                ┆               │\n",
       "│ 2024-06-24 ┆ violencia      ┆ na  ┆ na  ┆ … ┆ 63        ┆ 01:27 ┆ la familia     ┆ interior      │\n",
       "│            ┆ familiar       ┆     ┆     ┆   ┆           ┆       ┆                ┆               │\n",
       "│ 2024-07-09 ┆ violencia      ┆ na  ┆ na  ┆ … ┆ 63        ┆ 08:30 ┆ la familia     ┆ interior      │\n",
       "│            ┆ familiar       ┆     ┆     ┆   ┆           ┆       ┆                ┆               │\n",
       "│ 2024-07-28 ┆ violencia      ┆ na  ┆ na  ┆ … ┆ 18        ┆ 11:14 ┆ la familia     ┆ interior      │\n",
       "│            ┆ familiar       ┆     ┆     ┆   ┆           ┆       ┆                ┆               │\n",
       "└────────────┴────────────────┴─────┴─────┴───┴───────────┴───────┴────────────────┴───────────────┘"
      ]
     },
     "execution_count": 8,
     "metadata": {},
     "output_type": "execute_result"
    }
   ],
   "source": [
    "files = [f for f in glob('data/IIEG/*.csv') if \"25\" not in f]\n",
    "df = pl.concat([pl.read_csv(f, infer_schema=False) for f in files])\n",
    "df"
   ]
  },
  {
   "cell_type": "code",
   "execution_count": 9,
   "id": "5599fd94",
   "metadata": {},
   "outputs": [
    {
     "data": {
      "text/html": [
       "<div><style>\n",
       ".dataframe > thead > tr,\n",
       ".dataframe > tbody > tr {\n",
       "  text-align: right;\n",
       "  white-space: pre-wrap;\n",
       "}\n",
       "</style>\n",
       "<small>shape: (1, 10)</small><table border=\"1\" class=\"dataframe\"><thead><tr><th>fecha</th><th>delito</th><th>x</th><th>y</th><th>colonia</th><th>municipio</th><th>clave_mun</th><th>hora</th><th>bien_afectado</th><th>zona_geografica</th></tr><tr><td>u32</td><td>u32</td><td>u32</td><td>u32</td><td>u32</td><td>u32</td><td>u32</td><td>u32</td><td>u32</td><td>u32</td></tr></thead><tbody><tr><td>28595</td><td>28595</td><td>28595</td><td>28595</td><td>28595</td><td>28595</td><td>28595</td><td>28595</td><td>28595</td><td>28595</td></tr></tbody></table></div>"
      ],
      "text/plain": [
       "shape: (1, 10)\n",
       "┌───────┬────────┬───────┬───────┬───┬───────────┬───────┬───────────────┬─────────────────┐\n",
       "│ fecha ┆ delito ┆ x     ┆ y     ┆ … ┆ clave_mun ┆ hora  ┆ bien_afectado ┆ zona_geografica │\n",
       "│ ---   ┆ ---    ┆ ---   ┆ ---   ┆   ┆ ---       ┆ ---   ┆ ---           ┆ ---             │\n",
       "│ u32   ┆ u32    ┆ u32   ┆ u32   ┆   ┆ u32       ┆ u32   ┆ u32           ┆ u32             │\n",
       "╞═══════╪════════╪═══════╪═══════╪═══╪═══════════╪═══════╪═══════════════╪═════════════════╡\n",
       "│ 28595 ┆ 28595  ┆ 28595 ┆ 28595 ┆ … ┆ 28595     ┆ 28595 ┆ 28595         ┆ 28595           │\n",
       "└───────┴────────┴───────┴───────┴───┴───────────┴───────┴───────────────┴─────────────────┘"
      ]
     },
     "execution_count": 9,
     "metadata": {},
     "output_type": "execute_result"
    }
   ],
   "source": [
    "df.filter(pl.col(\"x\") == \"na\").count()"
   ]
  },
  {
   "cell_type": "code",
   "execution_count": 10,
   "id": "6e671234",
   "metadata": {},
   "outputs": [
    {
     "data": {
      "text/html": [
       "<div><style>\n",
       ".dataframe > thead > tr,\n",
       ".dataframe > tbody > tr {\n",
       "  text-align: right;\n",
       "  white-space: pre-wrap;\n",
       "}\n",
       "</style>\n",
       "<small>shape: (1, 10)</small><table border=\"1\" class=\"dataframe\"><thead><tr><th>fecha</th><th>delito</th><th>x</th><th>y</th><th>colonia</th><th>municipio</th><th>clave_mun</th><th>hora</th><th>bien_afectado</th><th>zona_geografica</th></tr><tr><td>u32</td><td>u32</td><td>u32</td><td>u32</td><td>u32</td><td>u32</td><td>u32</td><td>u32</td><td>u32</td><td>u32</td></tr></thead><tbody><tr><td>48511</td><td>48511</td><td>48511</td><td>48511</td><td>48511</td><td>48511</td><td>48511</td><td>48511</td><td>48511</td><td>48511</td></tr></tbody></table></div>"
      ],
      "text/plain": [
       "shape: (1, 10)\n",
       "┌───────┬────────┬───────┬───────┬───┬───────────┬───────┬───────────────┬─────────────────┐\n",
       "│ fecha ┆ delito ┆ x     ┆ y     ┆ … ┆ clave_mun ┆ hora  ┆ bien_afectado ┆ zona_geografica │\n",
       "│ ---   ┆ ---    ┆ ---   ┆ ---   ┆   ┆ ---       ┆ ---   ┆ ---           ┆ ---             │\n",
       "│ u32   ┆ u32    ┆ u32   ┆ u32   ┆   ┆ u32       ┆ u32   ┆ u32           ┆ u32             │\n",
       "╞═══════╪════════╪═══════╪═══════╪═══╪═══════════╪═══════╪═══════════════╪═════════════════╡\n",
       "│ 48511 ┆ 48511  ┆ 48511 ┆ 48511 ┆ … ┆ 48511     ┆ 48511 ┆ 48511         ┆ 48511           │\n",
       "└───────┴────────┴───────┴───────┴───┴───────────┴───────┴───────────────┴─────────────────┘"
      ]
     },
     "execution_count": 10,
     "metadata": {},
     "output_type": "execute_result"
    }
   ],
   "source": [
    "df.filter(pl.col(\"colonia\") == \"no disponible\").count()"
   ]
  },
  {
   "cell_type": "code",
   "execution_count": 11,
   "id": "7b1cdf2c",
   "metadata": {},
   "outputs": [
    {
     "data": {
      "text/html": [
       "<div><style>\n",
       ".dataframe > thead > tr,\n",
       ".dataframe > tbody > tr {\n",
       "  text-align: right;\n",
       "  white-space: pre-wrap;\n",
       "}\n",
       "</style>\n",
       "<small>shape: (1, 10)</small><table border=\"1\" class=\"dataframe\"><thead><tr><th>fecha</th><th>delito</th><th>x</th><th>y</th><th>colonia</th><th>municipio</th><th>clave_mun</th><th>hora</th><th>bien_afectado</th><th>zona_geografica</th></tr><tr><td>u32</td><td>u32</td><td>u32</td><td>u32</td><td>u32</td><td>u32</td><td>u32</td><td>u32</td><td>u32</td><td>u32</td></tr></thead><tbody><tr><td>169305</td><td>169305</td><td>169305</td><td>169305</td><td>169305</td><td>169305</td><td>169305</td><td>169305</td><td>169305</td><td>169305</td></tr></tbody></table></div>"
      ],
      "text/plain": [
       "shape: (1, 10)\n",
       "┌────────┬────────┬────────┬────────┬───┬───────────┬────────┬───────────────┬─────────────────┐\n",
       "│ fecha  ┆ delito ┆ x      ┆ y      ┆ … ┆ clave_mun ┆ hora   ┆ bien_afectado ┆ zona_geografica │\n",
       "│ ---    ┆ ---    ┆ ---    ┆ ---    ┆   ┆ ---       ┆ ---    ┆ ---           ┆ ---             │\n",
       "│ u32    ┆ u32    ┆ u32    ┆ u32    ┆   ┆ u32       ┆ u32    ┆ u32           ┆ u32             │\n",
       "╞════════╪════════╪════════╪════════╪═══╪═══════════╪════════╪═══════════════╪═════════════════╡\n",
       "│ 169305 ┆ 169305 ┆ 169305 ┆ 169305 ┆ … ┆ 169305    ┆ 169305 ┆ 169305        ┆ 169305          │\n",
       "└────────┴────────┴────────┴────────┴───┴───────────┴────────┴───────────────┴─────────────────┘"
      ]
     },
     "execution_count": 11,
     "metadata": {},
     "output_type": "execute_result"
    }
   ],
   "source": [
    "df.filter(~pl.col(\"hora\").str.contains(r\"^\\d{1,2}:\\d{2}$\")).count()"
   ]
  },
  {
   "cell_type": "code",
   "execution_count": 12,
   "id": "de64f567",
   "metadata": {},
   "outputs": [
    {
     "data": {
      "text/plain": [
       "False"
      ]
     },
     "execution_count": 12,
     "metadata": {},
     "output_type": "execute_result"
    }
   ],
   "source": [
    "def check_format(fecha):\n",
    "    if '-' in fecha:\n",
    "        y, m, d = map(int, fecha.split('-'))\n",
    "        if y < 2016 or m > 12 or d > 31:\n",
    "            return False\n",
    "    elif '/' in fecha:\n",
    "        d, m, y = map(int, fecha.split('/'))\n",
    "        if y < 2016 or m > 12 or d > 31:\n",
    "            return False\n",
    "    return True\n",
    "\n",
    "\n",
    "False in list(map(lambda x: check_format(x), df[\"fecha\"].to_list()))"
   ]
  },
  {
   "cell_type": "code",
   "execution_count": 13,
   "id": "99ca2901",
   "metadata": {},
   "outputs": [
    {
     "data": {
      "text/html": [
       "<div><style>\n",
       ".dataframe > thead > tr,\n",
       ".dataframe > tbody > tr {\n",
       "  text-align: right;\n",
       "  white-space: pre-wrap;\n",
       "}\n",
       "</style>\n",
       "<small>shape: (0, 10)</small><table border=\"1\" class=\"dataframe\"><thead><tr><th>fecha</th><th>delito</th><th>x</th><th>y</th><th>colonia</th><th>municipio</th><th>clave_mun</th><th>hora</th><th>bien_afectado</th><th>zona_geografica</th></tr><tr><td>str</td><td>str</td><td>str</td><td>str</td><td>str</td><td>str</td><td>str</td><td>str</td><td>str</td><td>str</td></tr></thead><tbody></tbody></table></div>"
      ],
      "text/plain": [
       "shape: (0, 10)\n",
       "┌───────┬────────┬─────┬─────┬───┬───────────┬──────┬───────────────┬─────────────────┐\n",
       "│ fecha ┆ delito ┆ x   ┆ y   ┆ … ┆ clave_mun ┆ hora ┆ bien_afectado ┆ zona_geografica │\n",
       "│ ---   ┆ ---    ┆ --- ┆ --- ┆   ┆ ---       ┆ ---  ┆ ---           ┆ ---             │\n",
       "│ str   ┆ str    ┆ str ┆ str ┆   ┆ str       ┆ str  ┆ str           ┆ str             │\n",
       "╞═══════╪════════╪═════╪═════╪═══╪═══════════╪══════╪═══════════════╪═════════════════╡\n",
       "└───────┴────────┴─────┴─────┴───┴───────────┴──────┴───────────────┴─────────────────┘"
      ]
     },
     "execution_count": 13,
     "metadata": {},
     "output_type": "execute_result"
    }
   ],
   "source": [
    "df.filter(~pl.col(\"fecha\").str.contains(r\"^\\d{4}-\\d{1,2}-\\d{2}$|^\\d{1,2}/\\d{1,2}/\\d{4}$\"))"
   ]
  },
  {
   "cell_type": "code",
   "execution_count": 14,
   "id": "9d7b82b1",
   "metadata": {},
   "outputs": [],
   "source": [
    "df = df.with_columns(\n",
    "    pl.when(pl.col(\"fecha\").str.contains(r\"^\\d{4}-\\d{1,2}-\\d{1,2}$\"))\n",
    "      .then(pl.col(\"fecha\").str.strptime(pl.Date, \"%Y-%m-%d\", strict=False))\n",
    "      .when(pl.col(\"fecha\").str.contains(r\"^\\d{1,2}/\\d{1,2}/\\d{4}$\"))\n",
    "      .then(pl.col(\"fecha\").str.strptime(pl.Date, \"%d/%m/%Y\", strict=False))\n",
    "      .otherwise(None)\n",
    "      .alias(\"fecha\")\n",
    ")"
   ]
  },
  {
   "cell_type": "code",
   "execution_count": 15,
   "id": "0cc131a9",
   "metadata": {},
   "outputs": [
    {
     "data": {
      "text/html": [
       "<div><style>\n",
       ".dataframe > thead > tr,\n",
       ".dataframe > tbody > tr {\n",
       "  text-align: right;\n",
       "  white-space: pre-wrap;\n",
       "}\n",
       "</style>\n",
       "<small>shape: (582_248, 10)</small><table border=\"1\" class=\"dataframe\"><thead><tr><th>fecha</th><th>delito</th><th>x</th><th>y</th><th>colonia</th><th>municipio</th><th>clave_mun</th><th>hora</th><th>bien_afectado</th><th>zona_geografica</th></tr><tr><td>date</td><td>str</td><td>str</td><td>str</td><td>str</td><td>str</td><td>str</td><td>str</td><td>str</td><td>str</td></tr></thead><tbody><tr><td>2017-01-12</td><td>&quot;robo a casa habitacion&quot;</td><td>&quot;na&quot;</td><td>&quot;na&quot;</td><td>&quot;no disponible&quot;</td><td>&quot;san martin hidalgo&quot;</td><td>&quot;77&quot;</td><td>&quot;17:45&quot;</td><td>&quot;el patrimonio&quot;</td><td>&quot;interior&quot;</td></tr><tr><td>2017-01-20</td><td>&quot;lesiones dolosas&quot;</td><td>&quot;na&quot;</td><td>&quot;na&quot;</td><td>&quot;no disponible&quot;</td><td>&quot;tapalpa&quot;</td><td>&quot;86&quot;</td><td>&quot;05:30&quot;</td><td>&quot;la vida y la integridad corpor…</td><td>&quot;interior&quot;</td></tr><tr><td>2017-01-19</td><td>&quot;robo a vehiculos particulares&quot;</td><td>&quot;na&quot;</td><td>&quot;na&quot;</td><td>&quot;no disponible&quot;</td><td>&quot;san martin hidalgo&quot;</td><td>&quot;77&quot;</td><td>&quot;05:30&quot;</td><td>&quot;el patrimonio&quot;</td><td>&quot;interior&quot;</td></tr><tr><td>2017-01-13</td><td>&quot;lesiones dolosas&quot;</td><td>&quot;na&quot;</td><td>&quot;na&quot;</td><td>&quot;no disponible&quot;</td><td>&quot;san martin hidalgo&quot;</td><td>&quot;77&quot;</td><td>&quot;05:30&quot;</td><td>&quot;la vida y la integridad corpor…</td><td>&quot;interior&quot;</td></tr><tr><td>2017-01-23</td><td>&quot;violencia familiar&quot;</td><td>&quot;na&quot;</td><td>&quot;na&quot;</td><td>&quot;no disponible&quot;</td><td>&quot;san martin hidalgo&quot;</td><td>&quot;77&quot;</td><td>&quot;17:45&quot;</td><td>&quot;la familia&quot;</td><td>&quot;interior&quot;</td></tr><tr><td>&hellip;</td><td>&hellip;</td><td>&hellip;</td><td>&hellip;</td><td>&hellip;</td><td>&hellip;</td><td>&hellip;</td><td>&hellip;</td><td>&hellip;</td><td>&hellip;</td></tr><tr><td>2024-04-10</td><td>&quot;violencia familiar&quot;</td><td>&quot;na&quot;</td><td>&quot;na&quot;</td><td>&quot;no disponible&quot;</td><td>&quot;la barca&quot;</td><td>&quot;18&quot;</td><td>&quot;14:30&quot;</td><td>&quot;la familia&quot;</td><td>&quot;interior&quot;</td></tr><tr><td>2024-06-18</td><td>&quot;violencia familiar&quot;</td><td>&quot;na&quot;</td><td>&quot;na&quot;</td><td>&quot;no disponible&quot;</td><td>&quot;ocotlan&quot;</td><td>&quot;63&quot;</td><td>&quot;11:30&quot;</td><td>&quot;la familia&quot;</td><td>&quot;interior&quot;</td></tr><tr><td>2024-06-24</td><td>&quot;violencia familiar&quot;</td><td>&quot;na&quot;</td><td>&quot;na&quot;</td><td>&quot;no disponible&quot;</td><td>&quot;ocotlan&quot;</td><td>&quot;63&quot;</td><td>&quot;01:27&quot;</td><td>&quot;la familia&quot;</td><td>&quot;interior&quot;</td></tr><tr><td>2024-07-09</td><td>&quot;violencia familiar&quot;</td><td>&quot;na&quot;</td><td>&quot;na&quot;</td><td>&quot;no disponible&quot;</td><td>&quot;ocotlan&quot;</td><td>&quot;63&quot;</td><td>&quot;08:30&quot;</td><td>&quot;la familia&quot;</td><td>&quot;interior&quot;</td></tr><tr><td>2024-07-28</td><td>&quot;violencia familiar&quot;</td><td>&quot;na&quot;</td><td>&quot;na&quot;</td><td>&quot;no disponible&quot;</td><td>&quot;la barca&quot;</td><td>&quot;18&quot;</td><td>&quot;11:14&quot;</td><td>&quot;la familia&quot;</td><td>&quot;interior&quot;</td></tr></tbody></table></div>"
      ],
      "text/plain": [
       "shape: (582_248, 10)\n",
       "┌────────────┬────────────────┬─────┬─────┬───┬───────────┬───────┬────────────────┬───────────────┐\n",
       "│ fecha      ┆ delito         ┆ x   ┆ y   ┆ … ┆ clave_mun ┆ hora  ┆ bien_afectado  ┆ zona_geografi │\n",
       "│ ---        ┆ ---            ┆ --- ┆ --- ┆   ┆ ---       ┆ ---   ┆ ---            ┆ ca            │\n",
       "│ date       ┆ str            ┆ str ┆ str ┆   ┆ str       ┆ str   ┆ str            ┆ ---           │\n",
       "│            ┆                ┆     ┆     ┆   ┆           ┆       ┆                ┆ str           │\n",
       "╞════════════╪════════════════╪═════╪═════╪═══╪═══════════╪═══════╪════════════════╪═══════════════╡\n",
       "│ 2017-01-12 ┆ robo a casa    ┆ na  ┆ na  ┆ … ┆ 77        ┆ 17:45 ┆ el patrimonio  ┆ interior      │\n",
       "│            ┆ habitacion     ┆     ┆     ┆   ┆           ┆       ┆                ┆               │\n",
       "│ 2017-01-20 ┆ lesiones       ┆ na  ┆ na  ┆ … ┆ 86        ┆ 05:30 ┆ la vida y la   ┆ interior      │\n",
       "│            ┆ dolosas        ┆     ┆     ┆   ┆           ┆       ┆ integridad     ┆               │\n",
       "│            ┆                ┆     ┆     ┆   ┆           ┆       ┆ corpor…        ┆               │\n",
       "│ 2017-01-19 ┆ robo a         ┆ na  ┆ na  ┆ … ┆ 77        ┆ 05:30 ┆ el patrimonio  ┆ interior      │\n",
       "│            ┆ vehiculos      ┆     ┆     ┆   ┆           ┆       ┆                ┆               │\n",
       "│            ┆ particulares   ┆     ┆     ┆   ┆           ┆       ┆                ┆               │\n",
       "│ 2017-01-13 ┆ lesiones       ┆ na  ┆ na  ┆ … ┆ 77        ┆ 05:30 ┆ la vida y la   ┆ interior      │\n",
       "│            ┆ dolosas        ┆     ┆     ┆   ┆           ┆       ┆ integridad     ┆               │\n",
       "│            ┆                ┆     ┆     ┆   ┆           ┆       ┆ corpor…        ┆               │\n",
       "│ 2017-01-23 ┆ violencia      ┆ na  ┆ na  ┆ … ┆ 77        ┆ 17:45 ┆ la familia     ┆ interior      │\n",
       "│            ┆ familiar       ┆     ┆     ┆   ┆           ┆       ┆                ┆               │\n",
       "│ …          ┆ …              ┆ …   ┆ …   ┆ … ┆ …         ┆ …     ┆ …              ┆ …             │\n",
       "│ 2024-04-10 ┆ violencia      ┆ na  ┆ na  ┆ … ┆ 18        ┆ 14:30 ┆ la familia     ┆ interior      │\n",
       "│            ┆ familiar       ┆     ┆     ┆   ┆           ┆       ┆                ┆               │\n",
       "│ 2024-06-18 ┆ violencia      ┆ na  ┆ na  ┆ … ┆ 63        ┆ 11:30 ┆ la familia     ┆ interior      │\n",
       "│            ┆ familiar       ┆     ┆     ┆   ┆           ┆       ┆                ┆               │\n",
       "│ 2024-06-24 ┆ violencia      ┆ na  ┆ na  ┆ … ┆ 63        ┆ 01:27 ┆ la familia     ┆ interior      │\n",
       "│            ┆ familiar       ┆     ┆     ┆   ┆           ┆       ┆                ┆               │\n",
       "│ 2024-07-09 ┆ violencia      ┆ na  ┆ na  ┆ … ┆ 63        ┆ 08:30 ┆ la familia     ┆ interior      │\n",
       "│            ┆ familiar       ┆     ┆     ┆   ┆           ┆       ┆                ┆               │\n",
       "│ 2024-07-28 ┆ violencia      ┆ na  ┆ na  ┆ … ┆ 18        ┆ 11:14 ┆ la familia     ┆ interior      │\n",
       "│            ┆ familiar       ┆     ┆     ┆   ┆           ┆       ┆                ┆               │\n",
       "└────────────┴────────────────┴─────┴─────┴───┴───────────┴───────┴────────────────┴───────────────┘"
      ]
     },
     "execution_count": 15,
     "metadata": {},
     "output_type": "execute_result"
    }
   ],
   "source": [
    "df"
   ]
  },
  {
   "cell_type": "code",
   "execution_count": 16,
   "id": "f6edabff",
   "metadata": {},
   "outputs": [
    {
     "data": {
      "text/html": [
       "<div><style>\n",
       ".dataframe > thead > tr,\n",
       ".dataframe > tbody > tr {\n",
       "  text-align: right;\n",
       "  white-space: pre-wrap;\n",
       "}\n",
       "</style>\n",
       "<small>shape: (0, 10)</small><table border=\"1\" class=\"dataframe\"><thead><tr><th>fecha</th><th>delito</th><th>x</th><th>y</th><th>colonia</th><th>municipio</th><th>clave_mun</th><th>hora</th><th>bien_afectado</th><th>zona_geografica</th></tr><tr><td>date</td><td>str</td><td>str</td><td>str</td><td>str</td><td>str</td><td>str</td><td>str</td><td>str</td><td>str</td></tr></thead><tbody></tbody></table></div>"
      ],
      "text/plain": [
       "shape: (0, 10)\n",
       "┌───────┬────────┬─────┬─────┬───┬───────────┬──────┬───────────────┬─────────────────┐\n",
       "│ fecha ┆ delito ┆ x   ┆ y   ┆ … ┆ clave_mun ┆ hora ┆ bien_afectado ┆ zona_geografica │\n",
       "│ ---   ┆ ---    ┆ --- ┆ --- ┆   ┆ ---       ┆ ---  ┆ ---           ┆ ---             │\n",
       "│ date  ┆ str    ┆ str ┆ str ┆   ┆ str       ┆ str  ┆ str           ┆ str             │\n",
       "╞═══════╪════════╪═════╪═════╪═══╪═══════════╪══════╪═══════════════╪═════════════════╡\n",
       "└───────┴────────┴─────┴─────┴───┴───────────┴──────┴───────────────┴─────────────────┘"
      ]
     },
     "execution_count": 16,
     "metadata": {},
     "output_type": "execute_result"
    }
   ],
   "source": [
    "df.filter(pl.col(\"fecha\").is_null())"
   ]
  },
  {
   "cell_type": "code",
   "execution_count": 17,
   "id": "608bfb0d",
   "metadata": {},
   "outputs": [
    {
     "data": {
      "text/html": [
       "<div><style>\n",
       ".dataframe > thead > tr,\n",
       ".dataframe > tbody > tr {\n",
       "  text-align: right;\n",
       "  white-space: pre-wrap;\n",
       "}\n",
       "</style>\n",
       "<small>shape: (0, 10)</small><table border=\"1\" class=\"dataframe\"><thead><tr><th>fecha</th><th>delito</th><th>x</th><th>y</th><th>colonia</th><th>municipio</th><th>clave_mun</th><th>hora</th><th>bien_afectado</th><th>zona_geografica</th></tr><tr><td>date</td><td>str</td><td>str</td><td>str</td><td>str</td><td>str</td><td>str</td><td>str</td><td>str</td><td>str</td></tr></thead><tbody></tbody></table></div>"
      ],
      "text/plain": [
       "shape: (0, 10)\n",
       "┌───────┬────────┬─────┬─────┬───┬───────────┬──────┬───────────────┬─────────────────┐\n",
       "│ fecha ┆ delito ┆ x   ┆ y   ┆ … ┆ clave_mun ┆ hora ┆ bien_afectado ┆ zona_geografica │\n",
       "│ ---   ┆ ---    ┆ --- ┆ --- ┆   ┆ ---       ┆ ---  ┆ ---           ┆ ---             │\n",
       "│ date  ┆ str    ┆ str ┆ str ┆   ┆ str       ┆ str  ┆ str           ┆ str             │\n",
       "╞═══════╪════════╪═════╪═════╪═══╪═══════════╪══════╪═══════════════╪═════════════════╡\n",
       "└───────┴────────┴─────┴─────┴───┴───────────┴──────┴───────────────┴─────────────────┘"
      ]
     },
     "execution_count": 17,
     "metadata": {},
     "output_type": "execute_result"
    }
   ],
   "source": [
    "df.filter(~df[\"clave_mun\"].str.contains(r\"^\\d{1,3}$\"))"
   ]
  },
  {
   "cell_type": "code",
   "execution_count": 18,
   "id": "d892c8a2",
   "metadata": {},
   "outputs": [
    {
     "data": {
      "text/html": [
       "<div><style>\n",
       ".dataframe > thead > tr,\n",
       ".dataframe > tbody > tr {\n",
       "  text-align: right;\n",
       "  white-space: pre-wrap;\n",
       "}\n",
       "</style>\n",
       "<small>shape: (582_248, 10)</small><table border=\"1\" class=\"dataframe\"><thead><tr><th>fecha</th><th>delito</th><th>x</th><th>y</th><th>colonia</th><th>municipio</th><th>clave_mun</th><th>hora</th><th>bien_afectado</th><th>zona_geografica</th></tr><tr><td>date</td><td>str</td><td>str</td><td>str</td><td>str</td><td>str</td><td>i32</td><td>str</td><td>str</td><td>str</td></tr></thead><tbody><tr><td>2017-01-12</td><td>&quot;robo a casa habitacion&quot;</td><td>&quot;na&quot;</td><td>&quot;na&quot;</td><td>&quot;no disponible&quot;</td><td>&quot;san martin hidalgo&quot;</td><td>77</td><td>&quot;17:45&quot;</td><td>&quot;el patrimonio&quot;</td><td>&quot;interior&quot;</td></tr><tr><td>2017-01-20</td><td>&quot;lesiones dolosas&quot;</td><td>&quot;na&quot;</td><td>&quot;na&quot;</td><td>&quot;no disponible&quot;</td><td>&quot;tapalpa&quot;</td><td>86</td><td>&quot;05:30&quot;</td><td>&quot;la vida y la integridad corpor…</td><td>&quot;interior&quot;</td></tr><tr><td>2017-01-19</td><td>&quot;robo a vehiculos particulares&quot;</td><td>&quot;na&quot;</td><td>&quot;na&quot;</td><td>&quot;no disponible&quot;</td><td>&quot;san martin hidalgo&quot;</td><td>77</td><td>&quot;05:30&quot;</td><td>&quot;el patrimonio&quot;</td><td>&quot;interior&quot;</td></tr><tr><td>2017-01-13</td><td>&quot;lesiones dolosas&quot;</td><td>&quot;na&quot;</td><td>&quot;na&quot;</td><td>&quot;no disponible&quot;</td><td>&quot;san martin hidalgo&quot;</td><td>77</td><td>&quot;05:30&quot;</td><td>&quot;la vida y la integridad corpor…</td><td>&quot;interior&quot;</td></tr><tr><td>2017-01-23</td><td>&quot;violencia familiar&quot;</td><td>&quot;na&quot;</td><td>&quot;na&quot;</td><td>&quot;no disponible&quot;</td><td>&quot;san martin hidalgo&quot;</td><td>77</td><td>&quot;17:45&quot;</td><td>&quot;la familia&quot;</td><td>&quot;interior&quot;</td></tr><tr><td>&hellip;</td><td>&hellip;</td><td>&hellip;</td><td>&hellip;</td><td>&hellip;</td><td>&hellip;</td><td>&hellip;</td><td>&hellip;</td><td>&hellip;</td><td>&hellip;</td></tr><tr><td>2024-04-10</td><td>&quot;violencia familiar&quot;</td><td>&quot;na&quot;</td><td>&quot;na&quot;</td><td>&quot;no disponible&quot;</td><td>&quot;la barca&quot;</td><td>18</td><td>&quot;14:30&quot;</td><td>&quot;la familia&quot;</td><td>&quot;interior&quot;</td></tr><tr><td>2024-06-18</td><td>&quot;violencia familiar&quot;</td><td>&quot;na&quot;</td><td>&quot;na&quot;</td><td>&quot;no disponible&quot;</td><td>&quot;ocotlan&quot;</td><td>63</td><td>&quot;11:30&quot;</td><td>&quot;la familia&quot;</td><td>&quot;interior&quot;</td></tr><tr><td>2024-06-24</td><td>&quot;violencia familiar&quot;</td><td>&quot;na&quot;</td><td>&quot;na&quot;</td><td>&quot;no disponible&quot;</td><td>&quot;ocotlan&quot;</td><td>63</td><td>&quot;01:27&quot;</td><td>&quot;la familia&quot;</td><td>&quot;interior&quot;</td></tr><tr><td>2024-07-09</td><td>&quot;violencia familiar&quot;</td><td>&quot;na&quot;</td><td>&quot;na&quot;</td><td>&quot;no disponible&quot;</td><td>&quot;ocotlan&quot;</td><td>63</td><td>&quot;08:30&quot;</td><td>&quot;la familia&quot;</td><td>&quot;interior&quot;</td></tr><tr><td>2024-07-28</td><td>&quot;violencia familiar&quot;</td><td>&quot;na&quot;</td><td>&quot;na&quot;</td><td>&quot;no disponible&quot;</td><td>&quot;la barca&quot;</td><td>18</td><td>&quot;11:14&quot;</td><td>&quot;la familia&quot;</td><td>&quot;interior&quot;</td></tr></tbody></table></div>"
      ],
      "text/plain": [
       "shape: (582_248, 10)\n",
       "┌────────────┬────────────────┬─────┬─────┬───┬───────────┬───────┬────────────────┬───────────────┐\n",
       "│ fecha      ┆ delito         ┆ x   ┆ y   ┆ … ┆ clave_mun ┆ hora  ┆ bien_afectado  ┆ zona_geografi │\n",
       "│ ---        ┆ ---            ┆ --- ┆ --- ┆   ┆ ---       ┆ ---   ┆ ---            ┆ ca            │\n",
       "│ date       ┆ str            ┆ str ┆ str ┆   ┆ i32       ┆ str   ┆ str            ┆ ---           │\n",
       "│            ┆                ┆     ┆     ┆   ┆           ┆       ┆                ┆ str           │\n",
       "╞════════════╪════════════════╪═════╪═════╪═══╪═══════════╪═══════╪════════════════╪═══════════════╡\n",
       "│ 2017-01-12 ┆ robo a casa    ┆ na  ┆ na  ┆ … ┆ 77        ┆ 17:45 ┆ el patrimonio  ┆ interior      │\n",
       "│            ┆ habitacion     ┆     ┆     ┆   ┆           ┆       ┆                ┆               │\n",
       "│ 2017-01-20 ┆ lesiones       ┆ na  ┆ na  ┆ … ┆ 86        ┆ 05:30 ┆ la vida y la   ┆ interior      │\n",
       "│            ┆ dolosas        ┆     ┆     ┆   ┆           ┆       ┆ integridad     ┆               │\n",
       "│            ┆                ┆     ┆     ┆   ┆           ┆       ┆ corpor…        ┆               │\n",
       "│ 2017-01-19 ┆ robo a         ┆ na  ┆ na  ┆ … ┆ 77        ┆ 05:30 ┆ el patrimonio  ┆ interior      │\n",
       "│            ┆ vehiculos      ┆     ┆     ┆   ┆           ┆       ┆                ┆               │\n",
       "│            ┆ particulares   ┆     ┆     ┆   ┆           ┆       ┆                ┆               │\n",
       "│ 2017-01-13 ┆ lesiones       ┆ na  ┆ na  ┆ … ┆ 77        ┆ 05:30 ┆ la vida y la   ┆ interior      │\n",
       "│            ┆ dolosas        ┆     ┆     ┆   ┆           ┆       ┆ integridad     ┆               │\n",
       "│            ┆                ┆     ┆     ┆   ┆           ┆       ┆ corpor…        ┆               │\n",
       "│ 2017-01-23 ┆ violencia      ┆ na  ┆ na  ┆ … ┆ 77        ┆ 17:45 ┆ la familia     ┆ interior      │\n",
       "│            ┆ familiar       ┆     ┆     ┆   ┆           ┆       ┆                ┆               │\n",
       "│ …          ┆ …              ┆ …   ┆ …   ┆ … ┆ …         ┆ …     ┆ …              ┆ …             │\n",
       "│ 2024-04-10 ┆ violencia      ┆ na  ┆ na  ┆ … ┆ 18        ┆ 14:30 ┆ la familia     ┆ interior      │\n",
       "│            ┆ familiar       ┆     ┆     ┆   ┆           ┆       ┆                ┆               │\n",
       "│ 2024-06-18 ┆ violencia      ┆ na  ┆ na  ┆ … ┆ 63        ┆ 11:30 ┆ la familia     ┆ interior      │\n",
       "│            ┆ familiar       ┆     ┆     ┆   ┆           ┆       ┆                ┆               │\n",
       "│ 2024-06-24 ┆ violencia      ┆ na  ┆ na  ┆ … ┆ 63        ┆ 01:27 ┆ la familia     ┆ interior      │\n",
       "│            ┆ familiar       ┆     ┆     ┆   ┆           ┆       ┆                ┆               │\n",
       "│ 2024-07-09 ┆ violencia      ┆ na  ┆ na  ┆ … ┆ 63        ┆ 08:30 ┆ la familia     ┆ interior      │\n",
       "│            ┆ familiar       ┆     ┆     ┆   ┆           ┆       ┆                ┆               │\n",
       "│ 2024-07-28 ┆ violencia      ┆ na  ┆ na  ┆ … ┆ 18        ┆ 11:14 ┆ la familia     ┆ interior      │\n",
       "│            ┆ familiar       ┆     ┆     ┆   ┆           ┆       ┆                ┆               │\n",
       "└────────────┴────────────────┴─────┴─────┴───┴───────────┴───────┴────────────────┴───────────────┘"
      ]
     },
     "execution_count": 18,
     "metadata": {},
     "output_type": "execute_result"
    }
   ],
   "source": [
    "df = df.with_columns(\n",
    "    pl.col(\"clave_mun\").cast(pl.Int32).alias(\"clave_mun\")\n",
    ")\n",
    "\n",
    "df"
   ]
  },
  {
   "cell_type": "code",
   "execution_count": 19,
   "id": "5732e3ee",
   "metadata": {},
   "outputs": [
    {
     "data": {
      "text/html": [
       "<div><style>\n",
       ".dataframe > thead > tr,\n",
       ".dataframe > tbody > tr {\n",
       "  text-align: right;\n",
       "  white-space: pre-wrap;\n",
       "}\n",
       "</style>\n",
       "<small>shape: (582_248, 10)</small><table border=\"1\" class=\"dataframe\"><thead><tr><th>fecha</th><th>delito</th><th>x</th><th>y</th><th>colonia</th><th>municipio</th><th>clave_mun</th><th>hora</th><th>bien_afectado</th><th>zona_geografica</th></tr><tr><td>date</td><td>str</td><td>str</td><td>str</td><td>str</td><td>str</td><td>i32</td><td>time</td><td>str</td><td>str</td></tr></thead><tbody><tr><td>2017-01-12</td><td>&quot;robo a casa habitacion&quot;</td><td>&quot;na&quot;</td><td>&quot;na&quot;</td><td>&quot;no disponible&quot;</td><td>&quot;san martin hidalgo&quot;</td><td>77</td><td>17:45:00</td><td>&quot;el patrimonio&quot;</td><td>&quot;interior&quot;</td></tr><tr><td>2017-01-20</td><td>&quot;lesiones dolosas&quot;</td><td>&quot;na&quot;</td><td>&quot;na&quot;</td><td>&quot;no disponible&quot;</td><td>&quot;tapalpa&quot;</td><td>86</td><td>05:30:00</td><td>&quot;la vida y la integridad corpor…</td><td>&quot;interior&quot;</td></tr><tr><td>2017-01-19</td><td>&quot;robo a vehiculos particulares&quot;</td><td>&quot;na&quot;</td><td>&quot;na&quot;</td><td>&quot;no disponible&quot;</td><td>&quot;san martin hidalgo&quot;</td><td>77</td><td>05:30:00</td><td>&quot;el patrimonio&quot;</td><td>&quot;interior&quot;</td></tr><tr><td>2017-01-13</td><td>&quot;lesiones dolosas&quot;</td><td>&quot;na&quot;</td><td>&quot;na&quot;</td><td>&quot;no disponible&quot;</td><td>&quot;san martin hidalgo&quot;</td><td>77</td><td>05:30:00</td><td>&quot;la vida y la integridad corpor…</td><td>&quot;interior&quot;</td></tr><tr><td>2017-01-23</td><td>&quot;violencia familiar&quot;</td><td>&quot;na&quot;</td><td>&quot;na&quot;</td><td>&quot;no disponible&quot;</td><td>&quot;san martin hidalgo&quot;</td><td>77</td><td>17:45:00</td><td>&quot;la familia&quot;</td><td>&quot;interior&quot;</td></tr><tr><td>&hellip;</td><td>&hellip;</td><td>&hellip;</td><td>&hellip;</td><td>&hellip;</td><td>&hellip;</td><td>&hellip;</td><td>&hellip;</td><td>&hellip;</td><td>&hellip;</td></tr><tr><td>2024-04-10</td><td>&quot;violencia familiar&quot;</td><td>&quot;na&quot;</td><td>&quot;na&quot;</td><td>&quot;no disponible&quot;</td><td>&quot;la barca&quot;</td><td>18</td><td>14:30:00</td><td>&quot;la familia&quot;</td><td>&quot;interior&quot;</td></tr><tr><td>2024-06-18</td><td>&quot;violencia familiar&quot;</td><td>&quot;na&quot;</td><td>&quot;na&quot;</td><td>&quot;no disponible&quot;</td><td>&quot;ocotlan&quot;</td><td>63</td><td>11:30:00</td><td>&quot;la familia&quot;</td><td>&quot;interior&quot;</td></tr><tr><td>2024-06-24</td><td>&quot;violencia familiar&quot;</td><td>&quot;na&quot;</td><td>&quot;na&quot;</td><td>&quot;no disponible&quot;</td><td>&quot;ocotlan&quot;</td><td>63</td><td>01:27:00</td><td>&quot;la familia&quot;</td><td>&quot;interior&quot;</td></tr><tr><td>2024-07-09</td><td>&quot;violencia familiar&quot;</td><td>&quot;na&quot;</td><td>&quot;na&quot;</td><td>&quot;no disponible&quot;</td><td>&quot;ocotlan&quot;</td><td>63</td><td>08:30:00</td><td>&quot;la familia&quot;</td><td>&quot;interior&quot;</td></tr><tr><td>2024-07-28</td><td>&quot;violencia familiar&quot;</td><td>&quot;na&quot;</td><td>&quot;na&quot;</td><td>&quot;no disponible&quot;</td><td>&quot;la barca&quot;</td><td>18</td><td>11:14:00</td><td>&quot;la familia&quot;</td><td>&quot;interior&quot;</td></tr></tbody></table></div>"
      ],
      "text/plain": [
       "shape: (582_248, 10)\n",
       "┌────────────┬───────────────┬─────┬─────┬───┬───────────┬──────────┬───────────────┬──────────────┐\n",
       "│ fecha      ┆ delito        ┆ x   ┆ y   ┆ … ┆ clave_mun ┆ hora     ┆ bien_afectado ┆ zona_geograf │\n",
       "│ ---        ┆ ---           ┆ --- ┆ --- ┆   ┆ ---       ┆ ---      ┆ ---           ┆ ica          │\n",
       "│ date       ┆ str           ┆ str ┆ str ┆   ┆ i32       ┆ time     ┆ str           ┆ ---          │\n",
       "│            ┆               ┆     ┆     ┆   ┆           ┆          ┆               ┆ str          │\n",
       "╞════════════╪═══════════════╪═════╪═════╪═══╪═══════════╪══════════╪═══════════════╪══════════════╡\n",
       "│ 2017-01-12 ┆ robo a casa   ┆ na  ┆ na  ┆ … ┆ 77        ┆ 17:45:00 ┆ el patrimonio ┆ interior     │\n",
       "│            ┆ habitacion    ┆     ┆     ┆   ┆           ┆          ┆               ┆              │\n",
       "│ 2017-01-20 ┆ lesiones      ┆ na  ┆ na  ┆ … ┆ 86        ┆ 05:30:00 ┆ la vida y la  ┆ interior     │\n",
       "│            ┆ dolosas       ┆     ┆     ┆   ┆           ┆          ┆ integridad    ┆              │\n",
       "│            ┆               ┆     ┆     ┆   ┆           ┆          ┆ corpor…       ┆              │\n",
       "│ 2017-01-19 ┆ robo a        ┆ na  ┆ na  ┆ … ┆ 77        ┆ 05:30:00 ┆ el patrimonio ┆ interior     │\n",
       "│            ┆ vehiculos     ┆     ┆     ┆   ┆           ┆          ┆               ┆              │\n",
       "│            ┆ particulares  ┆     ┆     ┆   ┆           ┆          ┆               ┆              │\n",
       "│ 2017-01-13 ┆ lesiones      ┆ na  ┆ na  ┆ … ┆ 77        ┆ 05:30:00 ┆ la vida y la  ┆ interior     │\n",
       "│            ┆ dolosas       ┆     ┆     ┆   ┆           ┆          ┆ integridad    ┆              │\n",
       "│            ┆               ┆     ┆     ┆   ┆           ┆          ┆ corpor…       ┆              │\n",
       "│ 2017-01-23 ┆ violencia     ┆ na  ┆ na  ┆ … ┆ 77        ┆ 17:45:00 ┆ la familia    ┆ interior     │\n",
       "│            ┆ familiar      ┆     ┆     ┆   ┆           ┆          ┆               ┆              │\n",
       "│ …          ┆ …             ┆ …   ┆ …   ┆ … ┆ …         ┆ …        ┆ …             ┆ …            │\n",
       "│ 2024-04-10 ┆ violencia     ┆ na  ┆ na  ┆ … ┆ 18        ┆ 14:30:00 ┆ la familia    ┆ interior     │\n",
       "│            ┆ familiar      ┆     ┆     ┆   ┆           ┆          ┆               ┆              │\n",
       "│ 2024-06-18 ┆ violencia     ┆ na  ┆ na  ┆ … ┆ 63        ┆ 11:30:00 ┆ la familia    ┆ interior     │\n",
       "│            ┆ familiar      ┆     ┆     ┆   ┆           ┆          ┆               ┆              │\n",
       "│ 2024-06-24 ┆ violencia     ┆ na  ┆ na  ┆ … ┆ 63        ┆ 01:27:00 ┆ la familia    ┆ interior     │\n",
       "│            ┆ familiar      ┆     ┆     ┆   ┆           ┆          ┆               ┆              │\n",
       "│ 2024-07-09 ┆ violencia     ┆ na  ┆ na  ┆ … ┆ 63        ┆ 08:30:00 ┆ la familia    ┆ interior     │\n",
       "│            ┆ familiar      ┆     ┆     ┆   ┆           ┆          ┆               ┆              │\n",
       "│ 2024-07-28 ┆ violencia     ┆ na  ┆ na  ┆ … ┆ 18        ┆ 11:14:00 ┆ la familia    ┆ interior     │\n",
       "│            ┆ familiar      ┆     ┆     ┆   ┆           ┆          ┆               ┆              │\n",
       "└────────────┴───────────────┴─────┴─────┴───┴───────────┴──────────┴───────────────┴──────────────┘"
      ]
     },
     "execution_count": 19,
     "metadata": {},
     "output_type": "execute_result"
    }
   ],
   "source": [
    "df = df.with_columns(\n",
    "    pl.col(\"hora\").str.strptime(pl.Time, \"%H:%M\", strict=False).alias(\"hora\")\n",
    ")\n",
    "\n",
    "df"
   ]
  },
  {
   "cell_type": "code",
   "execution_count": 20,
   "id": "343ec31f",
   "metadata": {},
   "outputs": [
    {
     "data": {
      "text/html": [
       "<div><style>\n",
       ".dataframe > thead > tr,\n",
       ".dataframe > tbody > tr {\n",
       "  text-align: right;\n",
       "  white-space: pre-wrap;\n",
       "}\n",
       "</style>\n",
       "<small>shape: (582_248, 10)</small><table border=\"1\" class=\"dataframe\"><thead><tr><th>fecha</th><th>delito</th><th>x</th><th>y</th><th>colonia</th><th>municipio</th><th>clave_mun</th><th>hora</th><th>bien_afectado</th><th>zona_geografica</th></tr><tr><td>date</td><td>str</td><td>f64</td><td>f64</td><td>str</td><td>str</td><td>i32</td><td>time</td><td>str</td><td>str</td></tr></thead><tbody><tr><td>2017-01-12</td><td>&quot;robo a casa habitacion&quot;</td><td>null</td><td>null</td><td>&quot;no disponible&quot;</td><td>&quot;san martin hidalgo&quot;</td><td>77</td><td>17:45:00</td><td>&quot;el patrimonio&quot;</td><td>&quot;interior&quot;</td></tr><tr><td>2017-01-20</td><td>&quot;lesiones dolosas&quot;</td><td>null</td><td>null</td><td>&quot;no disponible&quot;</td><td>&quot;tapalpa&quot;</td><td>86</td><td>05:30:00</td><td>&quot;la vida y la integridad corpor…</td><td>&quot;interior&quot;</td></tr><tr><td>2017-01-19</td><td>&quot;robo a vehiculos particulares&quot;</td><td>null</td><td>null</td><td>&quot;no disponible&quot;</td><td>&quot;san martin hidalgo&quot;</td><td>77</td><td>05:30:00</td><td>&quot;el patrimonio&quot;</td><td>&quot;interior&quot;</td></tr><tr><td>2017-01-13</td><td>&quot;lesiones dolosas&quot;</td><td>null</td><td>null</td><td>&quot;no disponible&quot;</td><td>&quot;san martin hidalgo&quot;</td><td>77</td><td>05:30:00</td><td>&quot;la vida y la integridad corpor…</td><td>&quot;interior&quot;</td></tr><tr><td>2017-01-23</td><td>&quot;violencia familiar&quot;</td><td>null</td><td>null</td><td>&quot;no disponible&quot;</td><td>&quot;san martin hidalgo&quot;</td><td>77</td><td>17:45:00</td><td>&quot;la familia&quot;</td><td>&quot;interior&quot;</td></tr><tr><td>&hellip;</td><td>&hellip;</td><td>&hellip;</td><td>&hellip;</td><td>&hellip;</td><td>&hellip;</td><td>&hellip;</td><td>&hellip;</td><td>&hellip;</td><td>&hellip;</td></tr><tr><td>2024-04-10</td><td>&quot;violencia familiar&quot;</td><td>null</td><td>null</td><td>&quot;no disponible&quot;</td><td>&quot;la barca&quot;</td><td>18</td><td>14:30:00</td><td>&quot;la familia&quot;</td><td>&quot;interior&quot;</td></tr><tr><td>2024-06-18</td><td>&quot;violencia familiar&quot;</td><td>null</td><td>null</td><td>&quot;no disponible&quot;</td><td>&quot;ocotlan&quot;</td><td>63</td><td>11:30:00</td><td>&quot;la familia&quot;</td><td>&quot;interior&quot;</td></tr><tr><td>2024-06-24</td><td>&quot;violencia familiar&quot;</td><td>null</td><td>null</td><td>&quot;no disponible&quot;</td><td>&quot;ocotlan&quot;</td><td>63</td><td>01:27:00</td><td>&quot;la familia&quot;</td><td>&quot;interior&quot;</td></tr><tr><td>2024-07-09</td><td>&quot;violencia familiar&quot;</td><td>null</td><td>null</td><td>&quot;no disponible&quot;</td><td>&quot;ocotlan&quot;</td><td>63</td><td>08:30:00</td><td>&quot;la familia&quot;</td><td>&quot;interior&quot;</td></tr><tr><td>2024-07-28</td><td>&quot;violencia familiar&quot;</td><td>null</td><td>null</td><td>&quot;no disponible&quot;</td><td>&quot;la barca&quot;</td><td>18</td><td>11:14:00</td><td>&quot;la familia&quot;</td><td>&quot;interior&quot;</td></tr></tbody></table></div>"
      ],
      "text/plain": [
       "shape: (582_248, 10)\n",
       "┌────────────┬──────────────┬──────┬──────┬───┬───────────┬──────────┬──────────────┬──────────────┐\n",
       "│ fecha      ┆ delito       ┆ x    ┆ y    ┆ … ┆ clave_mun ┆ hora     ┆ bien_afectad ┆ zona_geograf │\n",
       "│ ---        ┆ ---          ┆ ---  ┆ ---  ┆   ┆ ---       ┆ ---      ┆ o            ┆ ica          │\n",
       "│ date       ┆ str          ┆ f64  ┆ f64  ┆   ┆ i32       ┆ time     ┆ ---          ┆ ---          │\n",
       "│            ┆              ┆      ┆      ┆   ┆           ┆          ┆ str          ┆ str          │\n",
       "╞════════════╪══════════════╪══════╪══════╪═══╪═══════════╪══════════╪══════════════╪══════════════╡\n",
       "│ 2017-01-12 ┆ robo a casa  ┆ null ┆ null ┆ … ┆ 77        ┆ 17:45:00 ┆ el           ┆ interior     │\n",
       "│            ┆ habitacion   ┆      ┆      ┆   ┆           ┆          ┆ patrimonio   ┆              │\n",
       "│ 2017-01-20 ┆ lesiones     ┆ null ┆ null ┆ … ┆ 86        ┆ 05:30:00 ┆ la vida y la ┆ interior     │\n",
       "│            ┆ dolosas      ┆      ┆      ┆   ┆           ┆          ┆ integridad   ┆              │\n",
       "│            ┆              ┆      ┆      ┆   ┆           ┆          ┆ corpor…      ┆              │\n",
       "│ 2017-01-19 ┆ robo a       ┆ null ┆ null ┆ … ┆ 77        ┆ 05:30:00 ┆ el           ┆ interior     │\n",
       "│            ┆ vehiculos    ┆      ┆      ┆   ┆           ┆          ┆ patrimonio   ┆              │\n",
       "│            ┆ particulares ┆      ┆      ┆   ┆           ┆          ┆              ┆              │\n",
       "│ 2017-01-13 ┆ lesiones     ┆ null ┆ null ┆ … ┆ 77        ┆ 05:30:00 ┆ la vida y la ┆ interior     │\n",
       "│            ┆ dolosas      ┆      ┆      ┆   ┆           ┆          ┆ integridad   ┆              │\n",
       "│            ┆              ┆      ┆      ┆   ┆           ┆          ┆ corpor…      ┆              │\n",
       "│ 2017-01-23 ┆ violencia    ┆ null ┆ null ┆ … ┆ 77        ┆ 17:45:00 ┆ la familia   ┆ interior     │\n",
       "│            ┆ familiar     ┆      ┆      ┆   ┆           ┆          ┆              ┆              │\n",
       "│ …          ┆ …            ┆ …    ┆ …    ┆ … ┆ …         ┆ …        ┆ …            ┆ …            │\n",
       "│ 2024-04-10 ┆ violencia    ┆ null ┆ null ┆ … ┆ 18        ┆ 14:30:00 ┆ la familia   ┆ interior     │\n",
       "│            ┆ familiar     ┆      ┆      ┆   ┆           ┆          ┆              ┆              │\n",
       "│ 2024-06-18 ┆ violencia    ┆ null ┆ null ┆ … ┆ 63        ┆ 11:30:00 ┆ la familia   ┆ interior     │\n",
       "│            ┆ familiar     ┆      ┆      ┆   ┆           ┆          ┆              ┆              │\n",
       "│ 2024-06-24 ┆ violencia    ┆ null ┆ null ┆ … ┆ 63        ┆ 01:27:00 ┆ la familia   ┆ interior     │\n",
       "│            ┆ familiar     ┆      ┆      ┆   ┆           ┆          ┆              ┆              │\n",
       "│ 2024-07-09 ┆ violencia    ┆ null ┆ null ┆ … ┆ 63        ┆ 08:30:00 ┆ la familia   ┆ interior     │\n",
       "│            ┆ familiar     ┆      ┆      ┆   ┆           ┆          ┆              ┆              │\n",
       "│ 2024-07-28 ┆ violencia    ┆ null ┆ null ┆ … ┆ 18        ┆ 11:14:00 ┆ la familia   ┆ interior     │\n",
       "│            ┆ familiar     ┆      ┆      ┆   ┆           ┆          ┆              ┆              │\n",
       "└────────────┴──────────────┴──────┴──────┴───┴───────────┴──────────┴──────────────┴──────────────┘"
      ]
     },
     "execution_count": 20,
     "metadata": {},
     "output_type": "execute_result"
    }
   ],
   "source": [
    "df = df.with_columns(\n",
    "    pl.col(\"x\").cast(pl.Float64, strict=False).alias(\"x\"),\n",
    "    pl.col(\"y\").cast(pl.Float64, strict=False).alias(\"y\")\n",
    ")\n",
    "\n",
    "df"
   ]
  },
  {
   "cell_type": "code",
   "execution_count": 21,
   "id": "7ba13a7e",
   "metadata": {},
   "outputs": [],
   "source": [
    "with open('data/regiones.json', 'r', encoding='utf-8') as f:\n",
    "    regiones = json.load(f)\n",
    "\n",
    "df = df.with_columns(\n",
    "    pl.col(\"municipio\")\n",
    "    .replace_strict(regiones, default=None)\n",
    "    .alias(\"region\")\n",
    ")"
   ]
  },
  {
   "cell_type": "code",
   "execution_count": 22,
   "id": "14736f83",
   "metadata": {},
   "outputs": [
    {
     "data": {
      "text/html": [
       "<div><style>\n",
       ".dataframe > thead > tr,\n",
       ".dataframe > tbody > tr {\n",
       "  text-align: right;\n",
       "  white-space: pre-wrap;\n",
       "}\n",
       "</style>\n",
       "<small>shape: (582_248, 11)</small><table border=\"1\" class=\"dataframe\"><thead><tr><th>fecha</th><th>delito</th><th>x</th><th>y</th><th>colonia</th><th>municipio</th><th>clave_mun</th><th>hora</th><th>bien_afectado</th><th>zona_geografica</th><th>region</th></tr><tr><td>date</td><td>str</td><td>f64</td><td>f64</td><td>str</td><td>str</td><td>i32</td><td>time</td><td>str</td><td>str</td><td>str</td></tr></thead><tbody><tr><td>2017-01-12</td><td>&quot;robo a casa habitacion&quot;</td><td>null</td><td>null</td><td>&quot;no disponible&quot;</td><td>&quot;san martin hidalgo&quot;</td><td>77</td><td>17:45:00</td><td>&quot;el patrimonio&quot;</td><td>&quot;interior&quot;</td><td>&quot;lagunas&quot;</td></tr><tr><td>2017-01-20</td><td>&quot;lesiones dolosas&quot;</td><td>null</td><td>null</td><td>&quot;no disponible&quot;</td><td>&quot;tapalpa&quot;</td><td>86</td><td>05:30:00</td><td>&quot;la vida y la integridad corpor…</td><td>&quot;interior&quot;</td><td>&quot;lagunas&quot;</td></tr><tr><td>2017-01-19</td><td>&quot;robo a vehiculos particulares&quot;</td><td>null</td><td>null</td><td>&quot;no disponible&quot;</td><td>&quot;san martin hidalgo&quot;</td><td>77</td><td>05:30:00</td><td>&quot;el patrimonio&quot;</td><td>&quot;interior&quot;</td><td>&quot;lagunas&quot;</td></tr><tr><td>2017-01-13</td><td>&quot;lesiones dolosas&quot;</td><td>null</td><td>null</td><td>&quot;no disponible&quot;</td><td>&quot;san martin hidalgo&quot;</td><td>77</td><td>05:30:00</td><td>&quot;la vida y la integridad corpor…</td><td>&quot;interior&quot;</td><td>&quot;lagunas&quot;</td></tr><tr><td>2017-01-23</td><td>&quot;violencia familiar&quot;</td><td>null</td><td>null</td><td>&quot;no disponible&quot;</td><td>&quot;san martin hidalgo&quot;</td><td>77</td><td>17:45:00</td><td>&quot;la familia&quot;</td><td>&quot;interior&quot;</td><td>&quot;lagunas&quot;</td></tr><tr><td>&hellip;</td><td>&hellip;</td><td>&hellip;</td><td>&hellip;</td><td>&hellip;</td><td>&hellip;</td><td>&hellip;</td><td>&hellip;</td><td>&hellip;</td><td>&hellip;</td><td>&hellip;</td></tr><tr><td>2024-04-10</td><td>&quot;violencia familiar&quot;</td><td>null</td><td>null</td><td>&quot;no disponible&quot;</td><td>&quot;la barca&quot;</td><td>18</td><td>14:30:00</td><td>&quot;la familia&quot;</td><td>&quot;interior&quot;</td><td>&quot;cienega&quot;</td></tr><tr><td>2024-06-18</td><td>&quot;violencia familiar&quot;</td><td>null</td><td>null</td><td>&quot;no disponible&quot;</td><td>&quot;ocotlan&quot;</td><td>63</td><td>11:30:00</td><td>&quot;la familia&quot;</td><td>&quot;interior&quot;</td><td>&quot;cienega&quot;</td></tr><tr><td>2024-06-24</td><td>&quot;violencia familiar&quot;</td><td>null</td><td>null</td><td>&quot;no disponible&quot;</td><td>&quot;ocotlan&quot;</td><td>63</td><td>01:27:00</td><td>&quot;la familia&quot;</td><td>&quot;interior&quot;</td><td>&quot;cienega&quot;</td></tr><tr><td>2024-07-09</td><td>&quot;violencia familiar&quot;</td><td>null</td><td>null</td><td>&quot;no disponible&quot;</td><td>&quot;ocotlan&quot;</td><td>63</td><td>08:30:00</td><td>&quot;la familia&quot;</td><td>&quot;interior&quot;</td><td>&quot;cienega&quot;</td></tr><tr><td>2024-07-28</td><td>&quot;violencia familiar&quot;</td><td>null</td><td>null</td><td>&quot;no disponible&quot;</td><td>&quot;la barca&quot;</td><td>18</td><td>11:14:00</td><td>&quot;la familia&quot;</td><td>&quot;interior&quot;</td><td>&quot;cienega&quot;</td></tr></tbody></table></div>"
      ],
      "text/plain": [
       "shape: (582_248, 11)\n",
       "┌────────────┬───────────────┬──────┬──────┬───┬──────────┬───────────────┬──────────────┬─────────┐\n",
       "│ fecha      ┆ delito        ┆ x    ┆ y    ┆ … ┆ hora     ┆ bien_afectado ┆ zona_geograf ┆ region  │\n",
       "│ ---        ┆ ---           ┆ ---  ┆ ---  ┆   ┆ ---      ┆ ---           ┆ ica          ┆ ---     │\n",
       "│ date       ┆ str           ┆ f64  ┆ f64  ┆   ┆ time     ┆ str           ┆ ---          ┆ str     │\n",
       "│            ┆               ┆      ┆      ┆   ┆          ┆               ┆ str          ┆         │\n",
       "╞════════════╪═══════════════╪══════╪══════╪═══╪══════════╪═══════════════╪══════════════╪═════════╡\n",
       "│ 2017-01-12 ┆ robo a casa   ┆ null ┆ null ┆ … ┆ 17:45:00 ┆ el patrimonio ┆ interior     ┆ lagunas │\n",
       "│            ┆ habitacion    ┆      ┆      ┆   ┆          ┆               ┆              ┆         │\n",
       "│ 2017-01-20 ┆ lesiones      ┆ null ┆ null ┆ … ┆ 05:30:00 ┆ la vida y la  ┆ interior     ┆ lagunas │\n",
       "│            ┆ dolosas       ┆      ┆      ┆   ┆          ┆ integridad    ┆              ┆         │\n",
       "│            ┆               ┆      ┆      ┆   ┆          ┆ corpor…       ┆              ┆         │\n",
       "│ 2017-01-19 ┆ robo a        ┆ null ┆ null ┆ … ┆ 05:30:00 ┆ el patrimonio ┆ interior     ┆ lagunas │\n",
       "│            ┆ vehiculos     ┆      ┆      ┆   ┆          ┆               ┆              ┆         │\n",
       "│            ┆ particulares  ┆      ┆      ┆   ┆          ┆               ┆              ┆         │\n",
       "│ 2017-01-13 ┆ lesiones      ┆ null ┆ null ┆ … ┆ 05:30:00 ┆ la vida y la  ┆ interior     ┆ lagunas │\n",
       "│            ┆ dolosas       ┆      ┆      ┆   ┆          ┆ integridad    ┆              ┆         │\n",
       "│            ┆               ┆      ┆      ┆   ┆          ┆ corpor…       ┆              ┆         │\n",
       "│ 2017-01-23 ┆ violencia     ┆ null ┆ null ┆ … ┆ 17:45:00 ┆ la familia    ┆ interior     ┆ lagunas │\n",
       "│            ┆ familiar      ┆      ┆      ┆   ┆          ┆               ┆              ┆         │\n",
       "│ …          ┆ …             ┆ …    ┆ …    ┆ … ┆ …        ┆ …             ┆ …            ┆ …       │\n",
       "│ 2024-04-10 ┆ violencia     ┆ null ┆ null ┆ … ┆ 14:30:00 ┆ la familia    ┆ interior     ┆ cienega │\n",
       "│            ┆ familiar      ┆      ┆      ┆   ┆          ┆               ┆              ┆         │\n",
       "│ 2024-06-18 ┆ violencia     ┆ null ┆ null ┆ … ┆ 11:30:00 ┆ la familia    ┆ interior     ┆ cienega │\n",
       "│            ┆ familiar      ┆      ┆      ┆   ┆          ┆               ┆              ┆         │\n",
       "│ 2024-06-24 ┆ violencia     ┆ null ┆ null ┆ … ┆ 01:27:00 ┆ la familia    ┆ interior     ┆ cienega │\n",
       "│            ┆ familiar      ┆      ┆      ┆   ┆          ┆               ┆              ┆         │\n",
       "│ 2024-07-09 ┆ violencia     ┆ null ┆ null ┆ … ┆ 08:30:00 ┆ la familia    ┆ interior     ┆ cienega │\n",
       "│            ┆ familiar      ┆      ┆      ┆   ┆          ┆               ┆              ┆         │\n",
       "│ 2024-07-28 ┆ violencia     ┆ null ┆ null ┆ … ┆ 11:14:00 ┆ la familia    ┆ interior     ┆ cienega │\n",
       "│            ┆ familiar      ┆      ┆      ┆   ┆          ┆               ┆              ┆         │\n",
       "└────────────┴───────────────┴──────┴──────┴───┴──────────┴───────────────┴──────────────┴─────────┘"
      ]
     },
     "execution_count": 22,
     "metadata": {},
     "output_type": "execute_result"
    }
   ],
   "source": [
    "df"
   ]
  },
  {
   "cell_type": "markdown",
   "id": "adf9180f",
   "metadata": {},
   "source": [
    "---"
   ]
  },
  {
   "cell_type": "code",
   "execution_count": 23,
   "id": "b247578e",
   "metadata": {},
   "outputs": [],
   "source": [
    "df.write_parquet('data/iieg_data.parquet')"
   ]
  },
  {
   "cell_type": "code",
   "execution_count": 24,
   "id": "c76f0d82",
   "metadata": {},
   "outputs": [
    {
     "data": {
      "text/html": [
       "<div><style>\n",
       ".dataframe > thead > tr,\n",
       ".dataframe > tbody > tr {\n",
       "  text-align: right;\n",
       "  white-space: pre-wrap;\n",
       "}\n",
       "</style>\n",
       "<small>shape: (582_248, 11)</small><table border=\"1\" class=\"dataframe\"><thead><tr><th>fecha</th><th>delito</th><th>x</th><th>y</th><th>colonia</th><th>municipio</th><th>clave_mun</th><th>hora</th><th>bien_afectado</th><th>zona_geografica</th><th>region</th></tr><tr><td>date</td><td>str</td><td>f64</td><td>f64</td><td>str</td><td>str</td><td>i32</td><td>time</td><td>str</td><td>str</td><td>str</td></tr></thead><tbody><tr><td>2017-01-12</td><td>&quot;robo a casa habitacion&quot;</td><td>null</td><td>null</td><td>&quot;no disponible&quot;</td><td>&quot;san martin hidalgo&quot;</td><td>77</td><td>17:45:00</td><td>&quot;el patrimonio&quot;</td><td>&quot;interior&quot;</td><td>&quot;lagunas&quot;</td></tr><tr><td>2017-01-20</td><td>&quot;lesiones dolosas&quot;</td><td>null</td><td>null</td><td>&quot;no disponible&quot;</td><td>&quot;tapalpa&quot;</td><td>86</td><td>05:30:00</td><td>&quot;la vida y la integridad corpor…</td><td>&quot;interior&quot;</td><td>&quot;lagunas&quot;</td></tr><tr><td>2017-01-19</td><td>&quot;robo a vehiculos particulares&quot;</td><td>null</td><td>null</td><td>&quot;no disponible&quot;</td><td>&quot;san martin hidalgo&quot;</td><td>77</td><td>05:30:00</td><td>&quot;el patrimonio&quot;</td><td>&quot;interior&quot;</td><td>&quot;lagunas&quot;</td></tr><tr><td>2017-01-13</td><td>&quot;lesiones dolosas&quot;</td><td>null</td><td>null</td><td>&quot;no disponible&quot;</td><td>&quot;san martin hidalgo&quot;</td><td>77</td><td>05:30:00</td><td>&quot;la vida y la integridad corpor…</td><td>&quot;interior&quot;</td><td>&quot;lagunas&quot;</td></tr><tr><td>2017-01-23</td><td>&quot;violencia familiar&quot;</td><td>null</td><td>null</td><td>&quot;no disponible&quot;</td><td>&quot;san martin hidalgo&quot;</td><td>77</td><td>17:45:00</td><td>&quot;la familia&quot;</td><td>&quot;interior&quot;</td><td>&quot;lagunas&quot;</td></tr><tr><td>&hellip;</td><td>&hellip;</td><td>&hellip;</td><td>&hellip;</td><td>&hellip;</td><td>&hellip;</td><td>&hellip;</td><td>&hellip;</td><td>&hellip;</td><td>&hellip;</td><td>&hellip;</td></tr><tr><td>2024-04-10</td><td>&quot;violencia familiar&quot;</td><td>null</td><td>null</td><td>&quot;no disponible&quot;</td><td>&quot;la barca&quot;</td><td>18</td><td>14:30:00</td><td>&quot;la familia&quot;</td><td>&quot;interior&quot;</td><td>&quot;cienega&quot;</td></tr><tr><td>2024-06-18</td><td>&quot;violencia familiar&quot;</td><td>null</td><td>null</td><td>&quot;no disponible&quot;</td><td>&quot;ocotlan&quot;</td><td>63</td><td>11:30:00</td><td>&quot;la familia&quot;</td><td>&quot;interior&quot;</td><td>&quot;cienega&quot;</td></tr><tr><td>2024-06-24</td><td>&quot;violencia familiar&quot;</td><td>null</td><td>null</td><td>&quot;no disponible&quot;</td><td>&quot;ocotlan&quot;</td><td>63</td><td>01:27:00</td><td>&quot;la familia&quot;</td><td>&quot;interior&quot;</td><td>&quot;cienega&quot;</td></tr><tr><td>2024-07-09</td><td>&quot;violencia familiar&quot;</td><td>null</td><td>null</td><td>&quot;no disponible&quot;</td><td>&quot;ocotlan&quot;</td><td>63</td><td>08:30:00</td><td>&quot;la familia&quot;</td><td>&quot;interior&quot;</td><td>&quot;cienega&quot;</td></tr><tr><td>2024-07-28</td><td>&quot;violencia familiar&quot;</td><td>null</td><td>null</td><td>&quot;no disponible&quot;</td><td>&quot;la barca&quot;</td><td>18</td><td>11:14:00</td><td>&quot;la familia&quot;</td><td>&quot;interior&quot;</td><td>&quot;cienega&quot;</td></tr></tbody></table></div>"
      ],
      "text/plain": [
       "shape: (582_248, 11)\n",
       "┌────────────┬───────────────┬──────┬──────┬───┬──────────┬───────────────┬──────────────┬─────────┐\n",
       "│ fecha      ┆ delito        ┆ x    ┆ y    ┆ … ┆ hora     ┆ bien_afectado ┆ zona_geograf ┆ region  │\n",
       "│ ---        ┆ ---           ┆ ---  ┆ ---  ┆   ┆ ---      ┆ ---           ┆ ica          ┆ ---     │\n",
       "│ date       ┆ str           ┆ f64  ┆ f64  ┆   ┆ time     ┆ str           ┆ ---          ┆ str     │\n",
       "│            ┆               ┆      ┆      ┆   ┆          ┆               ┆ str          ┆         │\n",
       "╞════════════╪═══════════════╪══════╪══════╪═══╪══════════╪═══════════════╪══════════════╪═════════╡\n",
       "│ 2017-01-12 ┆ robo a casa   ┆ null ┆ null ┆ … ┆ 17:45:00 ┆ el patrimonio ┆ interior     ┆ lagunas │\n",
       "│            ┆ habitacion    ┆      ┆      ┆   ┆          ┆               ┆              ┆         │\n",
       "│ 2017-01-20 ┆ lesiones      ┆ null ┆ null ┆ … ┆ 05:30:00 ┆ la vida y la  ┆ interior     ┆ lagunas │\n",
       "│            ┆ dolosas       ┆      ┆      ┆   ┆          ┆ integridad    ┆              ┆         │\n",
       "│            ┆               ┆      ┆      ┆   ┆          ┆ corpor…       ┆              ┆         │\n",
       "│ 2017-01-19 ┆ robo a        ┆ null ┆ null ┆ … ┆ 05:30:00 ┆ el patrimonio ┆ interior     ┆ lagunas │\n",
       "│            ┆ vehiculos     ┆      ┆      ┆   ┆          ┆               ┆              ┆         │\n",
       "│            ┆ particulares  ┆      ┆      ┆   ┆          ┆               ┆              ┆         │\n",
       "│ 2017-01-13 ┆ lesiones      ┆ null ┆ null ┆ … ┆ 05:30:00 ┆ la vida y la  ┆ interior     ┆ lagunas │\n",
       "│            ┆ dolosas       ┆      ┆      ┆   ┆          ┆ integridad    ┆              ┆         │\n",
       "│            ┆               ┆      ┆      ┆   ┆          ┆ corpor…       ┆              ┆         │\n",
       "│ 2017-01-23 ┆ violencia     ┆ null ┆ null ┆ … ┆ 17:45:00 ┆ la familia    ┆ interior     ┆ lagunas │\n",
       "│            ┆ familiar      ┆      ┆      ┆   ┆          ┆               ┆              ┆         │\n",
       "│ …          ┆ …             ┆ …    ┆ …    ┆ … ┆ …        ┆ …             ┆ …            ┆ …       │\n",
       "│ 2024-04-10 ┆ violencia     ┆ null ┆ null ┆ … ┆ 14:30:00 ┆ la familia    ┆ interior     ┆ cienega │\n",
       "│            ┆ familiar      ┆      ┆      ┆   ┆          ┆               ┆              ┆         │\n",
       "│ 2024-06-18 ┆ violencia     ┆ null ┆ null ┆ … ┆ 11:30:00 ┆ la familia    ┆ interior     ┆ cienega │\n",
       "│            ┆ familiar      ┆      ┆      ┆   ┆          ┆               ┆              ┆         │\n",
       "│ 2024-06-24 ┆ violencia     ┆ null ┆ null ┆ … ┆ 01:27:00 ┆ la familia    ┆ interior     ┆ cienega │\n",
       "│            ┆ familiar      ┆      ┆      ┆   ┆          ┆               ┆              ┆         │\n",
       "│ 2024-07-09 ┆ violencia     ┆ null ┆ null ┆ … ┆ 08:30:00 ┆ la familia    ┆ interior     ┆ cienega │\n",
       "│            ┆ familiar      ┆      ┆      ┆   ┆          ┆               ┆              ┆         │\n",
       "│ 2024-07-28 ┆ violencia     ┆ null ┆ null ┆ … ┆ 11:14:00 ┆ la familia    ┆ interior     ┆ cienega │\n",
       "│            ┆ familiar      ┆      ┆      ┆   ┆          ┆               ┆              ┆         │\n",
       "└────────────┴───────────────┴──────┴──────┴───┴──────────┴───────────────┴──────────────┴─────────┘"
      ]
     },
     "execution_count": 24,
     "metadata": {},
     "output_type": "execute_result"
    }
   ],
   "source": [
    "df = pl.read_parquet('data/iieg_data.parquet')\n",
    "df"
   ]
  },
  {
   "cell_type": "code",
   "execution_count": 25,
   "id": "79ffe170",
   "metadata": {},
   "outputs": [
    {
     "data": {
      "text/html": [
       "<div><style>\n",
       ".dataframe > thead > tr,\n",
       ".dataframe > tbody > tr {\n",
       "  text-align: right;\n",
       "  white-space: pre-wrap;\n",
       "}\n",
       "</style>\n",
       "<small>shape: (19_916, 11)</small><table border=\"1\" class=\"dataframe\"><thead><tr><th>fecha</th><th>delito</th><th>x</th><th>y</th><th>colonia</th><th>municipio</th><th>clave_mun</th><th>hora</th><th>bien_afectado</th><th>zona_geografica</th><th>region</th></tr><tr><td>date</td><td>str</td><td>f64</td><td>f64</td><td>str</td><td>str</td><td>i32</td><td>time</td><td>str</td><td>str</td><td>str</td></tr></thead><tbody><tr><td>2017-01-05</td><td>&quot;robo a carga pesada&quot;</td><td>-103.576098</td><td>20.435153</td><td>&quot;no disponible&quot;</td><td>&quot;acatlan de juarez&quot;</td><td>2</td><td>17:45:00</td><td>&quot;el patrimonio&quot;</td><td>&quot;interior&quot;</td><td>&quot;lagunas&quot;</td></tr><tr><td>2017-01-04</td><td>&quot;robo a casa habitacion&quot;</td><td>-103.957391</td><td>20.37223</td><td>&quot;no disponible&quot;</td><td>&quot;san martin hidalgo&quot;</td><td>77</td><td>05:30:00</td><td>&quot;el patrimonio&quot;</td><td>&quot;interior&quot;</td><td>&quot;lagunas&quot;</td></tr><tr><td>2017-01-03</td><td>&quot;robo de motocicleta&quot;</td><td>-103.391568</td><td>20.134509</td><td>&quot;no disponible&quot;</td><td>&quot;teocuitatlan de corona&quot;</td><td>92</td><td>17:45:00</td><td>&quot;el patrimonio&quot;</td><td>&quot;interior&quot;</td><td>&quot;lagunas&quot;</td></tr><tr><td>2017-01-12</td><td>&quot;robo a vehiculos particulares&quot;</td><td>-103.591631</td><td>20.336282</td><td>&quot;no disponible&quot;</td><td>&quot;acatlan de juarez&quot;</td><td>2</td><td>05:30:00</td><td>&quot;el patrimonio&quot;</td><td>&quot;interior&quot;</td><td>&quot;lagunas&quot;</td></tr><tr><td>2017-01-11</td><td>&quot;robo a vehiculos particulares&quot;</td><td>-103.293515</td><td>20.107573</td><td>&quot;no disponible&quot;</td><td>&quot;teocuitatlan de corona&quot;</td><td>92</td><td>17:45:00</td><td>&quot;el patrimonio&quot;</td><td>&quot;interior&quot;</td><td>&quot;lagunas&quot;</td></tr><tr><td>&hellip;</td><td>&hellip;</td><td>&hellip;</td><td>&hellip;</td><td>&hellip;</td><td>&hellip;</td><td>&hellip;</td><td>&hellip;</td><td>&hellip;</td><td>&hellip;</td><td>&hellip;</td></tr><tr><td>2024-06-24</td><td>&quot;violencia familiar&quot;</td><td>-102.600779</td><td>20.464529</td><td>&quot;no disponible&quot;</td><td>&quot;atotonilco el alto&quot;</td><td>13</td><td>14:40:00</td><td>&quot;la familia&quot;</td><td>&quot;interior&quot;</td><td>&quot;cienega&quot;</td></tr><tr><td>2024-06-26</td><td>&quot;violencia familiar&quot;</td><td>-102.963273</td><td>20.32286</td><td>&quot;no disponible&quot;</td><td>&quot;poncitlan&quot;</td><td>66</td><td>15:40:00</td><td>&quot;la familia&quot;</td><td>&quot;interior&quot;</td><td>&quot;cienega&quot;</td></tr><tr><td>2024-07-03</td><td>&quot;violencia familiar&quot;</td><td>-102.357734</td><td>20.525367</td><td>&quot;no disponible&quot;</td><td>&quot;ayotlan&quot;</td><td>16</td><td>19:00:00</td><td>&quot;la familia&quot;</td><td>&quot;interior&quot;</td><td>&quot;cienega&quot;</td></tr><tr><td>2024-07-10</td><td>&quot;violencia familiar&quot;</td><td>-102.18774</td><td>20.468989</td><td>&quot;no disponible&quot;</td><td>&quot;degollado&quot;</td><td>33</td><td>14:40:00</td><td>&quot;la familia&quot;</td><td>&quot;interior&quot;</td><td>&quot;cienega&quot;</td></tr><tr><td>2024-07-30</td><td>&quot;violencia familiar&quot;</td><td>-102.759301</td><td>20.456102</td><td>&quot;no disponible&quot;</td><td>&quot;tototlan&quot;</td><td>105</td><td>18:00:00</td><td>&quot;la familia&quot;</td><td>&quot;interior&quot;</td><td>&quot;cienega&quot;</td></tr></tbody></table></div>"
      ],
      "text/plain": [
       "shape: (19_916, 11)\n",
       "┌────────────┬────────────┬───────────┬───────────┬───┬──────────┬───────────┬───────────┬─────────┐\n",
       "│ fecha      ┆ delito     ┆ x         ┆ y         ┆ … ┆ hora     ┆ bien_afec ┆ zona_geog ┆ region  │\n",
       "│ ---        ┆ ---        ┆ ---       ┆ ---       ┆   ┆ ---      ┆ tado      ┆ rafica    ┆ ---     │\n",
       "│ date       ┆ str        ┆ f64       ┆ f64       ┆   ┆ time     ┆ ---       ┆ ---       ┆ str     │\n",
       "│            ┆            ┆           ┆           ┆   ┆          ┆ str       ┆ str       ┆         │\n",
       "╞════════════╪════════════╪═══════════╪═══════════╪═══╪══════════╪═══════════╪═══════════╪═════════╡\n",
       "│ 2017-01-05 ┆ robo a     ┆ -103.5760 ┆ 20.435153 ┆ … ┆ 17:45:00 ┆ el patrim ┆ interior  ┆ lagunas │\n",
       "│            ┆ carga      ┆ 98        ┆           ┆   ┆          ┆ onio      ┆           ┆         │\n",
       "│            ┆ pesada     ┆           ┆           ┆   ┆          ┆           ┆           ┆         │\n",
       "│ 2017-01-04 ┆ robo a     ┆ -103.9573 ┆ 20.37223  ┆ … ┆ 05:30:00 ┆ el patrim ┆ interior  ┆ lagunas │\n",
       "│            ┆ casa       ┆ 91        ┆           ┆   ┆          ┆ onio      ┆           ┆         │\n",
       "│            ┆ habitacion ┆           ┆           ┆   ┆          ┆           ┆           ┆         │\n",
       "│ 2017-01-03 ┆ robo de    ┆ -103.3915 ┆ 20.134509 ┆ … ┆ 17:45:00 ┆ el patrim ┆ interior  ┆ lagunas │\n",
       "│            ┆ motociclet ┆ 68        ┆           ┆   ┆          ┆ onio      ┆           ┆         │\n",
       "│            ┆ a          ┆           ┆           ┆   ┆          ┆           ┆           ┆         │\n",
       "│ 2017-01-12 ┆ robo a     ┆ -103.5916 ┆ 20.336282 ┆ … ┆ 05:30:00 ┆ el patrim ┆ interior  ┆ lagunas │\n",
       "│            ┆ vehiculos  ┆ 31        ┆           ┆   ┆          ┆ onio      ┆           ┆         │\n",
       "│            ┆ particular ┆           ┆           ┆   ┆          ┆           ┆           ┆         │\n",
       "│            ┆ es         ┆           ┆           ┆   ┆          ┆           ┆           ┆         │\n",
       "│ 2017-01-11 ┆ robo a     ┆ -103.2935 ┆ 20.107573 ┆ … ┆ 17:45:00 ┆ el patrim ┆ interior  ┆ lagunas │\n",
       "│            ┆ vehiculos  ┆ 15        ┆           ┆   ┆          ┆ onio      ┆           ┆         │\n",
       "│            ┆ particular ┆           ┆           ┆   ┆          ┆           ┆           ┆         │\n",
       "│            ┆ es         ┆           ┆           ┆   ┆          ┆           ┆           ┆         │\n",
       "│ …          ┆ …          ┆ …         ┆ …         ┆ … ┆ …        ┆ …         ┆ …         ┆ …       │\n",
       "│ 2024-06-24 ┆ violencia  ┆ -102.6007 ┆ 20.464529 ┆ … ┆ 14:40:00 ┆ la        ┆ interior  ┆ cienega │\n",
       "│            ┆ familiar   ┆ 79        ┆           ┆   ┆          ┆ familia   ┆           ┆         │\n",
       "│ 2024-06-26 ┆ violencia  ┆ -102.9632 ┆ 20.32286  ┆ … ┆ 15:40:00 ┆ la        ┆ interior  ┆ cienega │\n",
       "│            ┆ familiar   ┆ 73        ┆           ┆   ┆          ┆ familia   ┆           ┆         │\n",
       "│ 2024-07-03 ┆ violencia  ┆ -102.3577 ┆ 20.525367 ┆ … ┆ 19:00:00 ┆ la        ┆ interior  ┆ cienega │\n",
       "│            ┆ familiar   ┆ 34        ┆           ┆   ┆          ┆ familia   ┆           ┆         │\n",
       "│ 2024-07-10 ┆ violencia  ┆ -102.1877 ┆ 20.468989 ┆ … ┆ 14:40:00 ┆ la        ┆ interior  ┆ cienega │\n",
       "│            ┆ familiar   ┆ 4         ┆           ┆   ┆          ┆ familia   ┆           ┆         │\n",
       "│ 2024-07-30 ┆ violencia  ┆ -102.7593 ┆ 20.456102 ┆ … ┆ 18:00:00 ┆ la        ┆ interior  ┆ cienega │\n",
       "│            ┆ familiar   ┆ 01        ┆           ┆   ┆          ┆ familia   ┆           ┆         │\n",
       "└────────────┴────────────┴───────────┴───────────┴───┴──────────┴───────────┴───────────┴─────────┘"
      ]
     },
     "execution_count": 25,
     "metadata": {},
     "output_type": "execute_result"
    }
   ],
   "source": [
    "df.filter(pl.col(\"colonia\") == \"no disponible\").filter(~pl.col(\"x\").is_null())"
   ]
  },
  {
   "cell_type": "code",
   "execution_count": null,
   "id": "ac50a45c",
   "metadata": {},
   "outputs": [],
   "source": []
  }
 ],
 "metadata": {
  "kernelspec": {
   "display_name": "DynProg",
   "language": "python",
   "name": "python3"
  },
  "language_info": {
   "codemirror_mode": {
    "name": "ipython",
    "version": 3
   },
   "file_extension": ".py",
   "mimetype": "text/x-python",
   "name": "python",
   "nbconvert_exporter": "python",
   "pygments_lexer": "ipython3",
   "version": "3.12.4"
  }
 },
 "nbformat": 4,
 "nbformat_minor": 5
}
